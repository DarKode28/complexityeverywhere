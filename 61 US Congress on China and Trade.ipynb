{
 "cells": [
  {
   "cell_type": "code",
   "execution_count": 2,
   "metadata": {},
   "outputs": [],
   "source": [
    "%reload_ext autoreload\n",
    "%autoreload\n",
    "%matplotlib inline"
   ]
  },
  {
   "cell_type": "code",
   "execution_count": 3,
   "metadata": {},
   "outputs": [],
   "source": [
    "from fastai.text import *"
   ]
  },
  {
   "cell_type": "code",
   "execution_count": 4,
   "metadata": {},
   "outputs": [],
   "source": [
    "from ranger import Ranger"
   ]
  },
  {
   "cell_type": "code",
   "execution_count": 5,
   "metadata": {},
   "outputs": [],
   "source": [
    "# torch.cuda.empty_cache()"
   ]
  },
  {
   "cell_type": "code",
   "execution_count": 6,
   "metadata": {},
   "outputs": [
    {
     "data": {
      "text/plain": [
       "[PosixPath('__pycache__'),\n",
       " PosixPath('ttat.csv'),\n",
       " PosixPath('.ipynb_checkpoints'),\n",
       " PosixPath('tr_ch_tw_train.csv'),\n",
       " PosixPath('congressfinal.csv'),\n",
       " PosixPath('data_lm_export.pkl'),\n",
       " PosixPath('Senators'),\n",
       " PosixPath('Candidates'),\n",
       " PosixPath('final_china - output.csv'),\n",
       " PosixPath('Trump on Trade.ipynb'),\n",
       " PosixPath('Reps'),\n",
       " PosixPath('Filter Out Trump Negative Tweets.ipynb'),\n",
       " PosixPath('all_congress_tweets.csv'),\n",
       " PosixPath('models'),\n",
       " PosixPath('Tweets Descriptive Stats.ipynb'),\n",
       " PosixPath('data_clas_export.pkl'),\n",
       " PosixPath('US Congress on China and Trade.ipynb'),\n",
       " PosixPath('allsenatorsandrepsoutput.csv'),\n",
       " PosixPath('ranger.py')]"
      ]
     },
     "execution_count": 6,
     "metadata": {},
     "output_type": "execute_result"
    }
   ],
   "source": [
    "path = Path()\n",
    "path.ls()"
   ]
  },
  {
   "cell_type": "markdown",
   "metadata": {},
   "source": [
    "# Sentiment Model on China Using ULMFIT and Trump Tweets"
   ]
  },
  {
   "cell_type": "code",
   "execution_count": 7,
   "metadata": {},
   "outputs": [
    {
     "data": {
      "text/html": [
       "<div>\n",
       "<style scoped>\n",
       "    .dataframe tbody tr th:only-of-type {\n",
       "        vertical-align: middle;\n",
       "    }\n",
       "\n",
       "    .dataframe tbody tr th {\n",
       "        vertical-align: top;\n",
       "    }\n",
       "\n",
       "    .dataframe thead th {\n",
       "        text-align: right;\n",
       "    }\n",
       "</style>\n",
       "<table border=\"1\" class=\"dataframe\">\n",
       "  <thead>\n",
       "    <tr style=\"text-align: right;\">\n",
       "      <th></th>\n",
       "      <th>sentiment</th>\n",
       "      <th>text</th>\n",
       "      <th>retweet_count</th>\n",
       "    </tr>\n",
       "  </thead>\n",
       "  <tbody>\n",
       "    <tr>\n",
       "      <th>0</th>\n",
       "      <td>NaN</td>\n",
       "      <td>RT @ChatByCC: Strong people stand up for thems...</td>\n",
       "      <td>20709</td>\n",
       "    </tr>\n",
       "    <tr>\n",
       "      <th>1</th>\n",
       "      <td>NaN</td>\n",
       "      <td>The Media has a big responsibility to life and...</td>\n",
       "      <td>4749</td>\n",
       "    </tr>\n",
       "    <tr>\n",
       "      <th>2</th>\n",
       "      <td>NaN</td>\n",
       "      <td>We cannot let those killed in El Paso Texas an...</td>\n",
       "      <td>4687</td>\n",
       "    </tr>\n",
       "    <tr>\n",
       "      <th>3</th>\n",
       "      <td>NaN</td>\n",
       "      <td>....this legislation with desperately needed i...</td>\n",
       "      <td>4069</td>\n",
       "    </tr>\n",
       "    <tr>\n",
       "      <th>4</th>\n",
       "      <td>NaN</td>\n",
       "      <td>Today I authorized the lowering of the flags t...</td>\n",
       "      <td>20958</td>\n",
       "    </tr>\n",
       "  </tbody>\n",
       "</table>\n",
       "</div>"
      ],
      "text/plain": [
       "   sentiment                                               text retweet_count\n",
       "0        NaN  RT @ChatByCC: Strong people stand up for thems...         20709\n",
       "1        NaN  The Media has a big responsibility to life and...          4749\n",
       "2        NaN  We cannot let those killed in El Paso Texas an...          4687\n",
       "3        NaN  ....this legislation with desperately needed i...          4069\n",
       "4        NaN  Today I authorized the lowering of the flags t...         20958"
      ]
     },
     "execution_count": 7,
     "metadata": {},
     "output_type": "execute_result"
    }
   ],
   "source": [
    "df = pd.read_csv('ttat.csv',error_bad_lines=False)\n",
    "df.head()"
   ]
  },
  {
   "cell_type": "code",
   "execution_count": 8,
   "metadata": {},
   "outputs": [
    {
     "data": {
      "text/plain": [
       "(36989, 3)"
      ]
     },
     "execution_count": 8,
     "metadata": {},
     "output_type": "execute_result"
    }
   ],
   "source": [
    "df.shape"
   ]
  },
  {
   "cell_type": "code",
   "execution_count": 9,
   "metadata": {},
   "outputs": [],
   "source": [
    "bs=64"
   ]
  },
  {
   "cell_type": "code",
   "execution_count": 10,
   "metadata": {},
   "outputs": [],
   "source": [
    "#Language Model DataBunch\n",
    "data_lm = TextLMDataBunch.from_csv(path, 'ttat.csv', max_vocab=60000, min_freq=1)"
   ]
  },
  {
   "cell_type": "code",
   "execution_count": 11,
   "metadata": {},
   "outputs": [
    {
     "data": {
      "text/plain": [
       "['xxunk', 'xxpad', 'xxbos', 'xxeos', 'xxfld']"
      ]
     },
     "execution_count": 11,
     "metadata": {},
     "output_type": "execute_result"
    }
   ],
   "source": [
    "data_lm.vocab.itos[:5]"
   ]
  },
  {
   "cell_type": "code",
   "execution_count": 12,
   "metadata": {},
   "outputs": [
    {
     "data": {
      "text/html": [
       "<table border=\"1\" class=\"dataframe\">\n",
       "  <thead>\n",
       "    <tr style=\"text-align: right;\">\n",
       "      <th>idx</th>\n",
       "      <th>text</th>\n",
       "    </tr>\n",
       "  </thead>\n",
       "  <tbody>\n",
       "    <tr>\n",
       "      <td>0</td>\n",
       "      <td>tower to get out of a lease with xxmaj conde xxmaj nast ? xxbos xxmaj so impt xxmaj rep xxmaj senators under leadership of @senatemajldr mcconnell get healthcare plan approved . xxmaj after 7yrs of o'care disaster must happen ! xxbos @asadtmoosvi : @realdonaldtrump xxmaj what 's one advice you 'd give to an aspiring entrepreneur ? xxmaj work hard and love what you do - never give up !</td>\n",
       "    </tr>\n",
       "    <tr>\n",
       "      <td>1</td>\n",
       "      <td>xxmaj trade xxmaj deals for our country ! xxbos i was recently asked if xxmaj crooked xxmaj hillary xxmaj clinton is going to run in 2020 ? xxmaj my answer was \" i hope so ! \" xxbos @malachino : xxmaj how will anybody beat xxmaj isis besides xxmaj trump . xxmaj they have never made a deal with another country xxmaj trump beats everyone all the time . xxbos</td>\n",
       "    </tr>\n",
       "    <tr>\n",
       "      <td>2</td>\n",
       "      <td>run for xxup potus . xxbos @shoretntweet @realdonaldtrump did someone say # winewednesday ? xxmaj loved your winery in xxup va brought a case back to xxmaj pottstown xxup pa ! xxmaj great ! xxbos xxmaj what many people donâ€ ™ t understand or donâ€ ™ t want to understand is that xxmaj wayne xxmaj chris and the folks who work so hard at the xxup @nra are xxmaj great</td>\n",
       "    </tr>\n",
       "  </tbody>\n",
       "</table>"
      ],
      "text/plain": [
       "<IPython.core.display.HTML object>"
      ]
     },
     "metadata": {},
     "output_type": "display_data"
    }
   ],
   "source": [
    "data_lm.show_batch(3)"
   ]
  },
  {
   "cell_type": "code",
   "execution_count": 13,
   "metadata": {},
   "outputs": [],
   "source": [
    "# Classifier DataBunch\n",
    "data_clas = TextClasDataBunch.from_csv(path, 'tr_ch_tw_train.csv', vocab=data_lm.train_ds.vocab, bs=8)"
   ]
  },
  {
   "cell_type": "code",
   "execution_count": 14,
   "metadata": {},
   "outputs": [],
   "source": [
    "#Save both DataBunches\n",
    "data_lm.save('data_lm_export.pkl')\n",
    "data_clas.save('data_clas_export.pkl')"
   ]
  },
  {
   "cell_type": "markdown",
   "metadata": {},
   "source": [
    "### Language Model"
   ]
  },
  {
   "cell_type": "code",
   "execution_count": 15,
   "metadata": {},
   "outputs": [],
   "source": [
    "import math\n",
    "import torch\n",
    "from torch.optim.optimizer import Optimizer, required\n",
    "\n",
    "class RAdam(Optimizer):\n",
    "\n",
    "    def __init__(self, params, lr=1e-3, betas=(0.9, 0.999), eps=1e-8, weight_decay=0):\n",
    "        defaults = dict(lr=lr, betas=betas, eps=eps, weight_decay=weight_decay)\n",
    "        self.buffer = [[None, None, None] for ind in range(10)]\n",
    "        super(RAdam, self).__init__(params, defaults)\n",
    "\n",
    "    def __setstate__(self, state):\n",
    "        super(RAdam, self).__setstate__(state)\n",
    "\n",
    "    def step(self, closure=None):\n",
    "\n",
    "        loss = None\n",
    "        if closure is not None:\n",
    "            loss = closure()\n",
    "\n",
    "        for group in self.param_groups:\n",
    "\n",
    "            for p in group['params']:\n",
    "                if p.grad is None:\n",
    "                    continue\n",
    "                grad = p.grad.data.float()\n",
    "                if grad.is_sparse:\n",
    "                    raise RuntimeError('RAdam does not support sparse gradients')\n",
    "\n",
    "                p_data_fp32 = p.data.float()\n",
    "\n",
    "                state = self.state[p]\n",
    "\n",
    "                if len(state) == 0:\n",
    "                    state['step'] = 0\n",
    "                    state['exp_avg'] = torch.zeros_like(p_data_fp32)\n",
    "                    state['exp_avg_sq'] = torch.zeros_like(p_data_fp32)\n",
    "                else:\n",
    "                    state['exp_avg'] = state['exp_avg'].type_as(p_data_fp32)\n",
    "                    state['exp_avg_sq'] = state['exp_avg_sq'].type_as(p_data_fp32)\n",
    "\n",
    "                exp_avg, exp_avg_sq = state['exp_avg'], state['exp_avg_sq']\n",
    "                beta1, beta2 = group['betas']\n",
    "\n",
    "                exp_avg_sq.mul_(beta2).addcmul_(1 - beta2, grad, grad)\n",
    "                exp_avg.mul_(beta1).add_(1 - beta1, grad)\n",
    "\n",
    "                state['step'] += 1\n",
    "                buffered = self.buffer[int(state['step'] % 10)]\n",
    "                if state['step'] == buffered[0]:\n",
    "                    N_sma, step_size = buffered[1], buffered[2]\n",
    "                else:\n",
    "                    buffered[0] = state['step']\n",
    "                    beta2_t = beta2 ** state['step']\n",
    "                    N_sma_max = 2 / (1 - beta2) - 1\n",
    "                    N_sma = N_sma_max - 2 * state['step'] * beta2_t / (1 - beta2_t)\n",
    "                    buffered[1] = N_sma\n",
    "                    if N_sma > 5:\n",
    "                        step_size = group['lr'] * math.sqrt((1 - beta2_t) * (N_sma - 4) / (N_sma_max - 4) * (N_sma - 2) / N_sma * N_sma_max / (N_sma_max - 2)) / (1 - beta1 ** state['step'])\n",
    "                    else:\n",
    "                        step_size = group['lr'] / (1 - beta1 ** state['step'])\n",
    "                    buffered[2] = step_size\n",
    "\n",
    "                if group['weight_decay'] != 0:\n",
    "                    p_data_fp32.add_(-group['weight_decay'] * group['lr'], p_data_fp32)\n",
    "\n",
    "                if N_sma > 5:                    \n",
    "                    denom = exp_avg_sq.sqrt().add_(group['eps'])\n",
    "                    p_data_fp32.addcdiv_(-step_size, exp_avg, denom)\n",
    "                else:\n",
    "                    p_data_fp32.add_(-step_size, exp_avg)\n",
    "\n",
    "                p.data.copy_(p_data_fp32)\n",
    "\n",
    "        return loss\n",
    "\n",
    "class PlainRAdam(Optimizer):\n",
    "\n",
    "    def __init__(self, params, lr=1e-3, betas=(0.9, 0.999), eps=1e-8, weight_decay=0):\n",
    "        defaults = dict(lr=lr, betas=betas, eps=eps, weight_decay=weight_decay)\n",
    "\n",
    "        super(RAdam, self).__init__(params, defaults)\n",
    "\n",
    "    def __setstate__(self, state):\n",
    "        super(RAdam, self).__setstate__(state)\n",
    "\n",
    "    def step(self, closure=None):\n",
    "\n",
    "        loss = None\n",
    "        if closure is not None:\n",
    "            loss = closure()\n",
    "\n",
    "        for group in self.param_groups:\n",
    "\n",
    "            for p in group['params']:\n",
    "                if p.grad is None:\n",
    "                    continue\n",
    "                grad = p.grad.data.float()\n",
    "                if grad.is_sparse:\n",
    "                    raise RuntimeError('RAdam does not support sparse gradients')\n",
    "\n",
    "                p_data_fp32 = p.data.float()\n",
    "\n",
    "                state = self.state[p]\n",
    "\n",
    "                if len(state) == 0:\n",
    "                    state['step'] = 0\n",
    "                    state['exp_avg'] = torch.zeros_like(p_data_fp32)\n",
    "                    state['exp_avg_sq'] = torch.zeros_like(p_data_fp32)\n",
    "                else:\n",
    "                    state['exp_avg'] = state['exp_avg'].type_as(p_data_fp32)\n",
    "                    state['exp_avg_sq'] = state['exp_avg_sq'].type_as(p_data_fp32)\n",
    "\n",
    "                exp_avg, exp_avg_sq = state['exp_avg'], state['exp_avg_sq']\n",
    "                beta1, beta2 = group['betas']\n",
    "\n",
    "                exp_avg_sq.mul_(beta2).addcmul_(1 - beta2, grad, grad)\n",
    "                exp_avg.mul_(beta1).add_(1 - beta1, grad)\n",
    "\n",
    "                state['step'] += 1\n",
    "                beta2_t = beta2 ** state['step']\n",
    "                N_sma_max = 2 / (1 - beta2) - 1\n",
    "                N_sma = N_sma_max - 2 * state['step'] * beta2_t / (1 - beta2_t)\n",
    "\n",
    "                if group['weight_decay'] != 0:\n",
    "                    p_data_fp32.add_(-group['weight_decay'] * group['lr'], p_data_fp32)\n",
    "\n",
    "                if N_sma > 5:                    \n",
    "                    step_size = group['lr'] * math.sqrt((1 - beta2_t) * (N_sma - 4) / (N_sma_max - 4) * (N_sma - 2) / N_sma * N_sma_max / (N_sma_max - 2)) / (1 - beta1 ** state['step'])\n",
    "                    denom = exp_avg_sq.sqrt().add_(group['eps'])\n",
    "                    p_data_fp32.addcdiv_(-step_size, exp_avg, denom)\n",
    "                else:\n",
    "                    step_size = group['lr'] / (1 - beta1 ** state['step'])\n",
    "                    p_data_fp32.add_(-step_size, exp_avg)\n",
    "\n",
    "                p.data.copy_(p_data_fp32)\n",
    "\n",
    "        return loss\n",
    "\n",
    "\n",
    "class AdamW(Optimizer):\n",
    "\n",
    "    def __init__(self, params, lr=1e-3, betas=(0.9, 0.999), eps=1e-8, weight_decay=0, warmup = 0):\n",
    "        defaults = dict(lr=lr, betas=betas, eps=eps,\n",
    "                        weight_decay=weight_decay, amsgrad=amsgrad, use_variance=True, warmup = warmup)\n",
    "        super(AdamW, self).__init__(params, defaults)\n",
    "\n",
    "    def __setstate__(self, state):\n",
    "        super(AdamW, self).__setstate__(state)\n",
    "\n",
    "    def step(self, closure=None):\n",
    "        loss = None\n",
    "        if closure is not None:\n",
    "            loss = closure()\n",
    "\n",
    "        for group in self.param_groups:\n",
    "\n",
    "            for p in group['params']:\n",
    "                if p.grad is None:\n",
    "                    continue\n",
    "                grad = p.grad.data.float()\n",
    "                if grad.is_sparse:\n",
    "                    raise RuntimeError('Adam does not support sparse gradients, please consider SparseAdam instead')\n",
    "\n",
    "                p_data_fp32 = p.data.float()\n",
    "\n",
    "                state = self.state[p]\n",
    "\n",
    "                if len(state) == 0:\n",
    "                    state['step'] = 0\n",
    "                    state['exp_avg'] = torch.zeros_like(p_data_fp32)\n",
    "                    state['exp_avg_sq'] = torch.zeros_like(p_data_fp32)\n",
    "                else:\n",
    "                    state['exp_avg'] = state['exp_avg'].type_as(p_data_fp32)\n",
    "                    state['exp_avg_sq'] = state['exp_avg_sq'].type_as(p_data_fp32)\n",
    "\n",
    "                exp_avg, exp_avg_sq = state['exp_avg'], state['exp_avg_sq']\n",
    "                beta1, beta2 = group['betas']\n",
    "\n",
    "                state['step'] += 1\n",
    "\n",
    "                exp_avg_sq.mul_(beta2).addcmul_(1 - beta2, grad, grad)\n",
    "                exp_avg.mul_(beta1).add_(1 - beta1, grad)\n",
    "\n",
    "                denom = exp_avg_sq.sqrt().add_(group['eps'])\n",
    "                bias_correction1 = 1 - beta1 ** state['step']\n",
    "                bias_correction2 = 1 - beta2 ** state['step']\n",
    "                \n",
    "                if group['warmup'] > state['step']:\n",
    "                    scheduled_lr = 1e-8 + state['step'] * group['lr'] / group['warmup']\n",
    "                else:\n",
    "                    scheduled_lr = group['lr']\n",
    "\n",
    "                step_size = group['lr'] * math.sqrt(bias_correction2) / bias_correction1\n",
    "                \n",
    "                if group['weight_decay'] != 0:\n",
    "                    p_data_fp32.add_(-group['weight_decay'] * scheduled_lr, p_data_fp32)\n",
    "\n",
    "                p_data_fp32.addcdiv_(-step_size, exp_avg, denom)\n",
    "\n",
    "                p.data.copy_(p_data_fp32)\n",
    "\n",
    "        return loss"
   ]
  },
  {
   "cell_type": "code",
   "execution_count": 16,
   "metadata": {},
   "outputs": [],
   "source": [
    "optar = partial(Ranger)"
   ]
  },
  {
   "cell_type": "code",
   "execution_count": 17,
   "metadata": {},
   "outputs": [],
   "source": [
    "learn = language_model_learner(data_lm, AWD_LSTM, drop_mult=0.5, opt_func=optar)"
   ]
  },
  {
   "cell_type": "code",
   "execution_count": 18,
   "metadata": {},
   "outputs": [
    {
     "data": {
      "text/html": [],
      "text/plain": [
       "<IPython.core.display.HTML object>"
      ]
     },
     "metadata": {},
     "output_type": "display_data"
    },
    {
     "name": "stdout",
     "output_type": "stream",
     "text": [
      "set state called\n",
      "LR Finder is complete, type {learner_name}.recorder.plot() to see the graph.\n"
     ]
    }
   ],
   "source": [
    "learn.lr_find()"
   ]
  },
  {
   "cell_type": "code",
   "execution_count": 19,
   "metadata": {},
   "outputs": [
    {
     "data": {
      "image/png": "[encoded data removed]",
      "text/plain": [
       "<Figure size 432x288 with 1 Axes>"
      ]
     },
     "metadata": {
      "needs_background": "light"
     },
     "output_type": "display_data"
    }
   ],
   "source": [
    "learn.recorder.plot(skip_end=15)"
   ]
  },
  {
   "cell_type": "code",
   "execution_count": 20,
   "metadata": {},
   "outputs": [
    {
     "data": {
      "text/html": [
       "<table border=\"1\" class=\"dataframe\">\n",
       "  <thead>\n",
       "    <tr style=\"text-align: left;\">\n",
       "      <th>epoch</th>\n",
       "      <th>train_loss</th>\n",
       "      <th>valid_loss</th>\n",
       "      <th>accuracy</th>\n",
       "      <th>time</th>\n",
       "    </tr>\n",
       "  </thead>\n",
       "  <tbody>\n",
       "    <tr>\n",
       "      <td>0</td>\n",
       "      <td>4.357477</td>\n",
       "      <td>4.024974</td>\n",
       "      <td>0.338010</td>\n",
       "      <td>01:15</td>\n",
       "    </tr>\n",
       "  </tbody>\n",
       "</table>"
      ],
      "text/plain": [
       "<IPython.core.display.HTML object>"
      ]
     },
     "metadata": {},
     "output_type": "display_data"
    }
   ],
   "source": [
    "# Run one epoch with lower layers \n",
    "learn.fit_one_cycle(1, 1e-1, moms=(0.8,0.7))"
   ]
  },
  {
   "cell_type": "code",
   "execution_count": 21,
   "metadata": {},
   "outputs": [
    {
     "data": {
      "text/html": [
       "<table border=\"1\" class=\"dataframe\">\n",
       "  <thead>\n",
       "    <tr style=\"text-align: left;\">\n",
       "      <th>epoch</th>\n",
       "      <th>train_loss</th>\n",
       "      <th>valid_loss</th>\n",
       "      <th>accuracy</th>\n",
       "      <th>time</th>\n",
       "    </tr>\n",
       "  </thead>\n",
       "  <tbody>\n",
       "    <tr>\n",
       "      <td>0</td>\n",
       "      <td>3.844510</td>\n",
       "      <td>3.748893</td>\n",
       "      <td>0.363807</td>\n",
       "      <td>01:28</td>\n",
       "    </tr>\n",
       "    <tr>\n",
       "      <td>1</td>\n",
       "      <td>3.754455</td>\n",
       "      <td>3.715303</td>\n",
       "      <td>0.360992</td>\n",
       "      <td>01:29</td>\n",
       "    </tr>\n",
       "    <tr>\n",
       "      <td>2</td>\n",
       "      <td>3.659468</td>\n",
       "      <td>3.624239</td>\n",
       "      <td>0.375487</td>\n",
       "      <td>01:30</td>\n",
       "    </tr>\n",
       "    <tr>\n",
       "      <td>3</td>\n",
       "      <td>3.500682</td>\n",
       "      <td>3.720668</td>\n",
       "      <td>0.365374</td>\n",
       "      <td>01:30</td>\n",
       "    </tr>\n",
       "    <tr>\n",
       "      <td>4</td>\n",
       "      <td>3.346203</td>\n",
       "      <td>3.762767</td>\n",
       "      <td>0.361849</td>\n",
       "      <td>01:30</td>\n",
       "    </tr>\n",
       "    <tr>\n",
       "      <td>5</td>\n",
       "      <td>3.153604</td>\n",
       "      <td>3.708726</td>\n",
       "      <td>0.377310</td>\n",
       "      <td>01:30</td>\n",
       "    </tr>\n",
       "    <tr>\n",
       "      <td>6</td>\n",
       "      <td>2.860171</td>\n",
       "      <td>3.762497</td>\n",
       "      <td>0.380931</td>\n",
       "      <td>01:30</td>\n",
       "    </tr>\n",
       "    <tr>\n",
       "      <td>7</td>\n",
       "      <td>2.468771</td>\n",
       "      <td>3.858649</td>\n",
       "      <td>0.381674</td>\n",
       "      <td>01:30</td>\n",
       "    </tr>\n",
       "    <tr>\n",
       "      <td>8</td>\n",
       "      <td>2.063668</td>\n",
       "      <td>3.947896</td>\n",
       "      <td>0.384680</td>\n",
       "      <td>01:30</td>\n",
       "    </tr>\n",
       "    <tr>\n",
       "      <td>9</td>\n",
       "      <td>1.832424</td>\n",
       "      <td>4.011632</td>\n",
       "      <td>0.383878</td>\n",
       "      <td>01:30</td>\n",
       "    </tr>\n",
       "  </tbody>\n",
       "</table>"
      ],
      "text/plain": [
       "<IPython.core.display.HTML object>"
      ]
     },
     "metadata": {},
     "output_type": "display_data"
    }
   ],
   "source": [
    "# Run for many epochs with all layers unfrozen\n",
    "learn.unfreeze()\n",
    "learn.fit_one_cycle(10, 5e-2, moms=(0.8,0.7))"
   ]
  },
  {
   "cell_type": "code",
   "execution_count": 22,
   "metadata": {},
   "outputs": [],
   "source": [
    "learn.save_encoder('ft_enc')"
   ]
  },
  {
   "cell_type": "markdown",
   "metadata": {},
   "source": [
    "### The Classifier"
   ]
  },
  {
   "cell_type": "code",
   "execution_count": 22,
   "metadata": {},
   "outputs": [],
   "source": [
    "# #reload Databunches and Encoder\n",
    "# data_lm = load_data(path, 'data_lm_export.pkl')\n",
    "# data_clas = load_data(path, 'data_clas_export.pkl')"
   ]
  },
  {
   "cell_type": "code",
   "execution_count": 23,
   "metadata": {},
   "outputs": [
    {
     "ename": "NameError",
     "evalue": "name 'load_encoder' is not defined",
     "output_type": "error",
     "traceback": [
      "\u001b[0;31m---------------------------------------------------------------------------\u001b[0m",
      "\u001b[0;31mNameError\u001b[0m                                 Traceback (most recent call last)",
      "\u001b[0;32m<ipython-input-23-d303de58abda>\u001b[0m in \u001b[0;36m<module>\u001b[0;34m\u001b[0m\n\u001b[0;32m----> 1\u001b[0;31m \u001b[0mload_encoder\u001b[0m\u001b[0;34m(\u001b[0m\u001b[0;34m'ft_enc'\u001b[0m\u001b[0;34m)\u001b[0m\u001b[0;34m\u001b[0m\u001b[0;34m\u001b[0m\u001b[0m\n\u001b[0m",
      "\u001b[0;31mNameError\u001b[0m: name 'load_encoder' is not defined"
     ]
    }
   ],
   "source": [
    "# load_encoder('ft_enc')"
   ]
  },
  {
   "cell_type": "code",
   "execution_count": 23,
   "metadata": {},
   "outputs": [],
   "source": [
    "bs=8"
   ]
  },
  {
   "cell_type": "code",
   "execution_count": 24,
   "metadata": {},
   "outputs": [],
   "source": [
    "# Classifier Learner Object\n",
    "learn = text_classifier_learner(data_clas, AWD_LSTM, drop_mult=0.9, opt_func=optar) #opt_func=RAdam, "
   ]
  },
  {
   "cell_type": "code",
   "execution_count": 25,
   "metadata": {},
   "outputs": [],
   "source": [
    "learn.load_encoder('ft_enc')"
   ]
  },
  {
   "cell_type": "code",
   "execution_count": 26,
   "metadata": {},
   "outputs": [
    {
     "data": {
      "text/html": [
       "<table border=\"1\" class=\"dataframe\">\n",
       "  <thead>\n",
       "    <tr style=\"text-align: right;\">\n",
       "      <th>text</th>\n",
       "      <th>target</th>\n",
       "    </tr>\n",
       "  </thead>\n",
       "  <tbody>\n",
       "    <tr>\n",
       "      <td>xxbos xxmaj president xxmaj xi of xxmaj china has been very helpful in his support of my meeting with xxmaj kim xxmaj jong xxmaj un . xxmaj the last thing xxmaj china wants are large scale nuclear weapons right next door . xxmaj sanctions placed on the border by xxmaj china and xxmaj russia have been very helpful . xxmaj great relationship with xxmaj chairman xxmaj kim !</td>\n",
       "      <td>positive</td>\n",
       "    </tr>\n",
       "    <tr>\n",
       "      <td>xxbos xxmaj china must continue to be strong and tight on the xxmaj border of xxmaj north xxmaj korea until a deal is made . xxmaj the word is that recently the xxmaj border has become much more porous and more has been filtering in . i want this to happen and xxmaj north xxmaj korea to be xxup very successful but only after signing !</td>\n",
       "      <td>positive</td>\n",
       "    </tr>\n",
       "    <tr>\n",
       "      <td>xxbos xxmaj president xxmaj xi and i will always be friends no matter what happens with our dispute on trade . xxmaj china will take down its xxmaj trade xxmaj barriers because it is the right thing to do . xxmaj taxes will become xxmaj reciprocal and a deal will be made on xxmaj intellectual xxmaj property . xxmaj great future for both countries !</td>\n",
       "      <td>positive</td>\n",
       "    </tr>\n",
       "    <tr>\n",
       "      <td>xxbos xxmaj one of the very exciting things to come out of my meeting with xxmaj president xxmaj xi of xxmaj china is his promise to me to criminalize the sale of deadly xxmaj fentanyl coming into the xxmaj united xxmaj states . xxmaj it will now be considered a “ controlled substance . ” xxmaj this could be a game changer on what is</td>\n",
       "      <td>positive</td>\n",
       "    </tr>\n",
       "    <tr>\n",
       "      <td>xxbos xxmaj chinese xxmaj president xxup xi xxup jinping and i spoke at length about the meeting with xxup kim xxup jong xxup un of xxmaj north xxmaj korea . xxmaj president xxup xi told me he appreciates that the xxup u.s. is working to solve the problem diplomatically rather than going with the ominous alternative . xxmaj china continues to be helpful !</td>\n",
       "      <td>positive</td>\n",
       "    </tr>\n",
       "  </tbody>\n",
       "</table>"
      ],
      "text/plain": [
       "<IPython.core.display.HTML object>"
      ]
     },
     "metadata": {},
     "output_type": "display_data"
    }
   ],
   "source": [
    "data_clas.show_batch()"
   ]
  },
  {
   "cell_type": "code",
   "execution_count": 27,
   "metadata": {},
   "outputs": [
    {
     "data": {
      "text/html": [],
      "text/plain": [
       "<IPython.core.display.HTML object>"
      ]
     },
     "metadata": {},
     "output_type": "display_data"
    },
    {
     "name": "stdout",
     "output_type": "stream",
     "text": [
      "set state called\n",
      "LR Finder is complete, type {learner_name}.recorder.plot() to see the graph.\n"
     ]
    },
    {
     "data": {
      "image/png": "[encoded data removed]",
      "text/plain": [
       "<Figure size 432x288 with 1 Axes>"
      ]
     },
     "metadata": {
      "needs_background": "light"
     },
     "output_type": "display_data"
    }
   ],
   "source": [
    "learn.lr_find()\n",
    "learn.recorder.plot(skip_end=15)"
   ]
  },
  {
   "cell_type": "code",
   "execution_count": 28,
   "metadata": {},
   "outputs": [
    {
     "data": {
      "text/html": [
       "<table border=\"1\" class=\"dataframe\">\n",
       "  <thead>\n",
       "    <tr style=\"text-align: left;\">\n",
       "      <th>epoch</th>\n",
       "      <th>train_loss</th>\n",
       "      <th>valid_loss</th>\n",
       "      <th>accuracy</th>\n",
       "      <th>time</th>\n",
       "    </tr>\n",
       "  </thead>\n",
       "  <tbody>\n",
       "    <tr>\n",
       "      <td>0</td>\n",
       "      <td>0.631202</td>\n",
       "      <td>0.511739</td>\n",
       "      <td>0.714286</td>\n",
       "      <td>00:00</td>\n",
       "    </tr>\n",
       "  </tbody>\n",
       "</table>"
      ],
      "text/plain": [
       "<IPython.core.display.HTML object>"
      ]
     },
     "metadata": {},
     "output_type": "display_data"
    }
   ],
   "source": [
    "learn.fit_one_cycle(1, 1e-2, moms=(0.8,0.7))"
   ]
  },
  {
   "cell_type": "code",
   "execution_count": 29,
   "metadata": {},
   "outputs": [
    {
     "data": {
      "text/html": [
       "<table border=\"1\" class=\"dataframe\">\n",
       "  <thead>\n",
       "    <tr style=\"text-align: left;\">\n",
       "      <th>epoch</th>\n",
       "      <th>train_loss</th>\n",
       "      <th>valid_loss</th>\n",
       "      <th>accuracy</th>\n",
       "      <th>time</th>\n",
       "    </tr>\n",
       "  </thead>\n",
       "  <tbody>\n",
       "    <tr>\n",
       "      <td>0</td>\n",
       "      <td>0.417409</td>\n",
       "      <td>0.524674</td>\n",
       "      <td>0.714286</td>\n",
       "      <td>00:01</td>\n",
       "    </tr>\n",
       "  </tbody>\n",
       "</table>"
      ],
      "text/plain": [
       "<IPython.core.display.HTML object>"
      ]
     },
     "metadata": {},
     "output_type": "display_data"
    }
   ],
   "source": [
    "learn.freeze_to(-2)\n",
    "learn.fit_one_cycle(1, slice(1e-2/(2.6**4),1e-2), moms=(0.8,0.7))"
   ]
  },
  {
   "cell_type": "code",
   "execution_count": 30,
   "metadata": {},
   "outputs": [
    {
     "data": {
      "text/html": [
       "<table border=\"1\" class=\"dataframe\">\n",
       "  <thead>\n",
       "    <tr style=\"text-align: left;\">\n",
       "      <th>epoch</th>\n",
       "      <th>train_loss</th>\n",
       "      <th>valid_loss</th>\n",
       "      <th>accuracy</th>\n",
       "      <th>time</th>\n",
       "    </tr>\n",
       "  </thead>\n",
       "  <tbody>\n",
       "    <tr>\n",
       "      <td>0</td>\n",
       "      <td>0.409585</td>\n",
       "      <td>0.469073</td>\n",
       "      <td>0.761905</td>\n",
       "      <td>00:01</td>\n",
       "    </tr>\n",
       "  </tbody>\n",
       "</table>"
      ],
      "text/plain": [
       "<IPython.core.display.HTML object>"
      ]
     },
     "metadata": {},
     "output_type": "display_data"
    }
   ],
   "source": [
    "learn.freeze_to(-3)\n",
    "learn.fit_one_cycle(1, slice(5e-3/(2.6**4),5e-3), moms=(0.8,0.7))"
   ]
  },
  {
   "cell_type": "code",
   "execution_count": 33,
   "metadata": {},
   "outputs": [
    {
     "data": {
      "text/html": [
       "<table border=\"1\" class=\"dataframe\">\n",
       "  <thead>\n",
       "    <tr style=\"text-align: left;\">\n",
       "      <th>epoch</th>\n",
       "      <th>train_loss</th>\n",
       "      <th>valid_loss</th>\n",
       "      <th>accuracy</th>\n",
       "      <th>time</th>\n",
       "    </tr>\n",
       "  </thead>\n",
       "  <tbody>\n",
       "    <tr>\n",
       "      <td>0</td>\n",
       "      <td>0.364452</td>\n",
       "      <td>0.325216</td>\n",
       "      <td>0.904762</td>\n",
       "      <td>00:01</td>\n",
       "    </tr>\n",
       "    <tr>\n",
       "      <td>1</td>\n",
       "      <td>0.383814</td>\n",
       "      <td>0.328869</td>\n",
       "      <td>0.904762</td>\n",
       "      <td>00:01</td>\n",
       "    </tr>\n",
       "    <tr>\n",
       "      <td>2</td>\n",
       "      <td>0.399754</td>\n",
       "      <td>0.335804</td>\n",
       "      <td>0.952381</td>\n",
       "      <td>00:01</td>\n",
       "    </tr>\n",
       "    <tr>\n",
       "      <td>3</td>\n",
       "      <td>0.379170</td>\n",
       "      <td>0.325995</td>\n",
       "      <td>0.904762</td>\n",
       "      <td>00:01</td>\n",
       "    </tr>\n",
       "    <tr>\n",
       "      <td>4</td>\n",
       "      <td>0.394363</td>\n",
       "      <td>0.330504</td>\n",
       "      <td>0.952381</td>\n",
       "      <td>00:01</td>\n",
       "    </tr>\n",
       "    <tr>\n",
       "      <td>5</td>\n",
       "      <td>0.412844</td>\n",
       "      <td>0.329172</td>\n",
       "      <td>0.904762</td>\n",
       "      <td>00:01</td>\n",
       "    </tr>\n",
       "    <tr>\n",
       "      <td>6</td>\n",
       "      <td>0.395680</td>\n",
       "      <td>0.318639</td>\n",
       "      <td>0.952381</td>\n",
       "      <td>00:01</td>\n",
       "    </tr>\n",
       "    <tr>\n",
       "      <td>7</td>\n",
       "      <td>0.392081</td>\n",
       "      <td>0.317649</td>\n",
       "      <td>0.952381</td>\n",
       "      <td>00:01</td>\n",
       "    </tr>\n",
       "    <tr>\n",
       "      <td>8</td>\n",
       "      <td>0.400068</td>\n",
       "      <td>0.320788</td>\n",
       "      <td>0.904762</td>\n",
       "      <td>00:01</td>\n",
       "    </tr>\n",
       "    <tr>\n",
       "      <td>9</td>\n",
       "      <td>0.395891</td>\n",
       "      <td>0.324236</td>\n",
       "      <td>0.904762</td>\n",
       "      <td>00:01</td>\n",
       "    </tr>\n",
       "  </tbody>\n",
       "</table>"
      ],
      "text/plain": [
       "<IPython.core.display.HTML object>"
      ]
     },
     "metadata": {},
     "output_type": "display_data"
    }
   ],
   "source": [
    "learn.unfreeze()\n",
    "learn.fit_one_cycle(10, slice(1e-8/(2.6**4),1e-3), moms=(0.8,0.7))"
   ]
  },
  {
   "cell_type": "markdown",
   "metadata": {},
   "source": [
    "# Preparing the Test Data"
   ]
  },
  {
   "cell_type": "code",
   "execution_count": 47,
   "metadata": {},
   "outputs": [
    {
     "data": {
      "text/html": [
       "<div>\n",
       "<style scoped>\n",
       "    .dataframe tbody tr th:only-of-type {\n",
       "        vertical-align: middle;\n",
       "    }\n",
       "\n",
       "    .dataframe tbody tr th {\n",
       "        vertical-align: top;\n",
       "    }\n",
       "\n",
       "    .dataframe thead th {\n",
       "        text-align: right;\n",
       "    }\n",
       "</style>\n",
       "<table border=\"1\" class=\"dataframe\">\n",
       "  <thead>\n",
       "    <tr style=\"text-align: right;\">\n",
       "      <th></th>\n",
       "      <th>sentiment</th>\n",
       "      <th>Tweets</th>\n",
       "      <th>Likes</th>\n",
       "      <th>RTs</th>\n",
       "      <th>chamber</th>\n",
       "      <th>party</th>\n",
       "    </tr>\n",
       "  </thead>\n",
       "  <tbody>\n",
       "    <tr>\n",
       "      <th>0</th>\n",
       "      <td>NaN</td>\n",
       "      <td>by adopting russian disinformation tactics dep...</td>\n",
       "      <td>535</td>\n",
       "      <td>173</td>\n",
       "      <td>house</td>\n",
       "      <td>democrats</td>\n",
       "    </tr>\n",
       "    <tr>\n",
       "      <th>1</th>\n",
       "      <td>NaN</td>\n",
       "      <td>the u.s. cannot lose its voice when human righ...</td>\n",
       "      <td>4553</td>\n",
       "      <td>997</td>\n",
       "      <td>house</td>\n",
       "      <td>democrats</td>\n",
       "    </tr>\n",
       "    <tr>\n",
       "      <th>2</th>\n",
       "      <td>NaN</td>\n",
       "      <td>the people of hong kong deserve to have their ...</td>\n",
       "      <td>363</td>\n",
       "      <td>80</td>\n",
       "      <td>house</td>\n",
       "      <td>democrats</td>\n",
       "    </tr>\n",
       "    <tr>\n",
       "      <th>3</th>\n",
       "      <td>NaN</td>\n",
       "      <td>words of world leaders can have dangerous cons...</td>\n",
       "      <td>4102</td>\n",
       "      <td>1376</td>\n",
       "      <td>house</td>\n",
       "      <td>democrats</td>\n",
       "    </tr>\n",
       "    <tr>\n",
       "      <th>4</th>\n",
       "      <td>NaN</td>\n",
       "      <td>unfortunately, president trump has not only ce...</td>\n",
       "      <td>3524</td>\n",
       "      <td>922</td>\n",
       "      <td>house</td>\n",
       "      <td>democrats</td>\n",
       "    </tr>\n",
       "  </tbody>\n",
       "</table>\n",
       "</div>"
      ],
      "text/plain": [
       "   sentiment                                             Tweets  Likes   RTs  \\\n",
       "0        NaN  by adopting russian disinformation tactics dep...    535   173   \n",
       "1        NaN  the u.s. cannot lose its voice when human righ...   4553   997   \n",
       "2        NaN  the people of hong kong deserve to have their ...    363    80   \n",
       "3        NaN  words of world leaders can have dangerous cons...   4102  1376   \n",
       "4        NaN  unfortunately, president trump has not only ce...   3524   922   \n",
       "\n",
       "  chamber      party  \n",
       "0   house  democrats  \n",
       "1   house  democrats  \n",
       "2   house  democrats  \n",
       "3   house  democrats  \n",
       "4   house  democrats  "
      ]
     },
     "execution_count": 47,
     "metadata": {},
     "output_type": "execute_result"
    }
   ],
   "source": [
    "test = pd.read_csv(path/'all_congress_tweets.csv')\n",
    "test.head(5)"
   ]
  },
  {
   "cell_type": "code",
   "execution_count": null,
   "metadata": {},
   "outputs": [],
   "source": [
    "#change column width\n",
    "# pd.options.display.max_colwidth = 50\n",
    "# delete column\n",
    "# df = df.drop(\"Unnamed: 0\", axis=1)"
   ]
  },
  {
   "cell_type": "code",
   "execution_count": 48,
   "metadata": {},
   "outputs": [],
   "source": [
    "test_pred = test"
   ]
  },
  {
   "cell_type": "code",
   "execution_count": 49,
   "metadata": {},
   "outputs": [
    {
     "data": {
      "text/html": [
       "<div>\n",
       "<style scoped>\n",
       "    .dataframe tbody tr th:only-of-type {\n",
       "        vertical-align: middle;\n",
       "    }\n",
       "\n",
       "    .dataframe tbody tr th {\n",
       "        vertical-align: top;\n",
       "    }\n",
       "\n",
       "    .dataframe thead th {\n",
       "        text-align: right;\n",
       "    }\n",
       "</style>\n",
       "<table border=\"1\" class=\"dataframe\">\n",
       "  <thead>\n",
       "    <tr style=\"text-align: right;\">\n",
       "      <th></th>\n",
       "      <th>sentiment</th>\n",
       "      <th>Tweets</th>\n",
       "      <th>Likes</th>\n",
       "      <th>RTs</th>\n",
       "      <th>chamber</th>\n",
       "      <th>party</th>\n",
       "    </tr>\n",
       "  </thead>\n",
       "  <tbody>\n",
       "    <tr>\n",
       "      <th>0</th>\n",
       "      <td>negative</td>\n",
       "      <td>by adopting russian disinformation tactics dep...</td>\n",
       "      <td>535</td>\n",
       "      <td>173</td>\n",
       "      <td>house</td>\n",
       "      <td>democrats</td>\n",
       "    </tr>\n",
       "    <tr>\n",
       "      <th>1</th>\n",
       "      <td>negative</td>\n",
       "      <td>the u.s. cannot lose its voice when human righ...</td>\n",
       "      <td>4553</td>\n",
       "      <td>997</td>\n",
       "      <td>house</td>\n",
       "      <td>democrats</td>\n",
       "    </tr>\n",
       "    <tr>\n",
       "      <th>2</th>\n",
       "      <td>negative</td>\n",
       "      <td>the people of hong kong deserve to have their ...</td>\n",
       "      <td>363</td>\n",
       "      <td>80</td>\n",
       "      <td>house</td>\n",
       "      <td>democrats</td>\n",
       "    </tr>\n",
       "    <tr>\n",
       "      <th>3</th>\n",
       "      <td>negative</td>\n",
       "      <td>words of world leaders can have dangerous cons...</td>\n",
       "      <td>4102</td>\n",
       "      <td>1376</td>\n",
       "      <td>house</td>\n",
       "      <td>democrats</td>\n",
       "    </tr>\n",
       "    <tr>\n",
       "      <th>4</th>\n",
       "      <td>negative</td>\n",
       "      <td>unfortunately, president trump has not only ce...</td>\n",
       "      <td>3524</td>\n",
       "      <td>922</td>\n",
       "      <td>house</td>\n",
       "      <td>democrats</td>\n",
       "    </tr>\n",
       "    <tr>\n",
       "      <th>5</th>\n",
       "      <td>negative</td>\n",
       "      <td>the ongoing trade war with china not only hurt...</td>\n",
       "      <td>46</td>\n",
       "      <td>16</td>\n",
       "      <td>house</td>\n",
       "      <td>democrats</td>\n",
       "    </tr>\n",
       "    <tr>\n",
       "      <th>6</th>\n",
       "      <td>positive</td>\n",
       "      <td>this directly hurts farmers in my district. as...</td>\n",
       "      <td>15</td>\n",
       "      <td>8</td>\n",
       "      <td>house</td>\n",
       "      <td>democrats</td>\n",
       "    </tr>\n",
       "    <tr>\n",
       "      <th>7</th>\n",
       "      <td>negative</td>\n",
       "      <td>soybean growers in tell me over over that they...</td>\n",
       "      <td>27</td>\n",
       "      <td>14</td>\n",
       "      <td>house</td>\n",
       "      <td>democrats</td>\n",
       "    </tr>\n",
       "    <tr>\n",
       "      <th>8</th>\n",
       "      <td>negative</td>\n",
       "      <td>tomorrow, yet another round of retaliatory tar...</td>\n",
       "      <td>39</td>\n",
       "      <td>15</td>\n",
       "      <td>house</td>\n",
       "      <td>democrats</td>\n",
       "    </tr>\n",
       "    <tr>\n",
       "      <th>9</th>\n",
       "      <td>negative</td>\n",
       "      <td>☑️require the administration to develop an unc...</td>\n",
       "      <td>5</td>\n",
       "      <td>2</td>\n",
       "      <td>house</td>\n",
       "      <td>democrats</td>\n",
       "    </tr>\n",
       "    <tr>\n",
       "      <th>10</th>\n",
       "      <td>negative</td>\n",
       "      <td>this retaliatory response by china was predict...</td>\n",
       "      <td>34</td>\n",
       "      <td>12</td>\n",
       "      <td>house</td>\n",
       "      <td>democrats</td>\n",
       "    </tr>\n",
       "    <tr>\n",
       "      <th>11</th>\n",
       "      <td>negative</td>\n",
       "      <td>this morning, china announced new retaliatory ...</td>\n",
       "      <td>96</td>\n",
       "      <td>37</td>\n",
       "      <td>house</td>\n",
       "      <td>democrats</td>\n",
       "    </tr>\n",
       "    <tr>\n",
       "      <th>12</th>\n",
       "      <td>negative</td>\n",
       "      <td>when we raise tariffs against chinese goods, t...</td>\n",
       "      <td>30</td>\n",
       "      <td>8</td>\n",
       "      <td>house</td>\n",
       "      <td>democrats</td>\n",
       "    </tr>\n",
       "    <tr>\n",
       "      <th>13</th>\n",
       "      <td>negative</td>\n",
       "      <td>withdrawing from international agreements does...</td>\n",
       "      <td>94</td>\n",
       "      <td>22</td>\n",
       "      <td>house</td>\n",
       "      <td>democrats</td>\n",
       "    </tr>\n",
       "    <tr>\n",
       "      <th>14</th>\n",
       "      <td>positive</td>\n",
       "      <td>weekend highlight – attending the beautiful ch...</td>\n",
       "      <td>55</td>\n",
       "      <td>6</td>\n",
       "      <td>house</td>\n",
       "      <td>democrats</td>\n",
       "    </tr>\n",
       "    <tr>\n",
       "      <th>15</th>\n",
       "      <td>negative</td>\n",
       "      <td>12- as a member of the i wanted to hear more f...</td>\n",
       "      <td>23</td>\n",
       "      <td>7</td>\n",
       "      <td>house</td>\n",
       "      <td>democrats</td>\n",
       "    </tr>\n",
       "    <tr>\n",
       "      <th>16</th>\n",
       "      <td>negative</td>\n",
       "      <td>rt the peaceful demonstrators in hong kong are...</td>\n",
       "      <td>0</td>\n",
       "      <td>3</td>\n",
       "      <td>house</td>\n",
       "      <td>democrats</td>\n",
       "    </tr>\n",
       "    <tr>\n",
       "      <th>17</th>\n",
       "      <td>negative</td>\n",
       "      <td>rt demonstrations against repression, censorsh...</td>\n",
       "      <td>0</td>\n",
       "      <td>1</td>\n",
       "      <td>house</td>\n",
       "      <td>democrats</td>\n",
       "    </tr>\n",
       "    <tr>\n",
       "      <th>18</th>\n",
       "      <td>positive</td>\n",
       "      <td>thanks to jia xi and xu min from the chinese e...</td>\n",
       "      <td>1</td>\n",
       "      <td>1</td>\n",
       "      <td>house</td>\n",
       "      <td>democrats</td>\n",
       "    </tr>\n",
       "    <tr>\n",
       "      <th>19</th>\n",
       "      <td>positive</td>\n",
       "      <td>the welcome to recgntion evnt 4 chinese labore...</td>\n",
       "      <td>1</td>\n",
       "      <td>3</td>\n",
       "      <td>house</td>\n",
       "      <td>democrats</td>\n",
       "    </tr>\n",
       "    <tr>\n",
       "      <th>20</th>\n",
       "      <td>positive</td>\n",
       "      <td>very concerned about china’s encroachment of o...</td>\n",
       "      <td>7</td>\n",
       "      <td>3</td>\n",
       "      <td>house</td>\n",
       "      <td>democrats</td>\n",
       "    </tr>\n",
       "    <tr>\n",
       "      <th>21</th>\n",
       "      <td>negative</td>\n",
       "      <td>at listening to our panel speak on how we can ...</td>\n",
       "      <td>14</td>\n",
       "      <td>1</td>\n",
       "      <td>house</td>\n",
       "      <td>democrats</td>\n",
       "    </tr>\n",
       "    <tr>\n",
       "      <th>22</th>\n",
       "      <td>positive</td>\n",
       "      <td>to all those celebrating - happy chinese new y...</td>\n",
       "      <td>1</td>\n",
       "      <td>2</td>\n",
       "      <td>house</td>\n",
       "      <td>democrats</td>\n",
       "    </tr>\n",
       "    <tr>\n",
       "      <th>23</th>\n",
       "      <td>negative</td>\n",
       "      <td>2/3 i'm deeply concerned and disappointed by a...</td>\n",
       "      <td>7</td>\n",
       "      <td>5</td>\n",
       "      <td>house</td>\n",
       "      <td>democrats</td>\n",
       "    </tr>\n",
       "    <tr>\n",
       "      <th>24</th>\n",
       "      <td>negative</td>\n",
       "      <td>america is in a high-stakes battle between chi...</td>\n",
       "      <td>8</td>\n",
       "      <td>3</td>\n",
       "      <td>house</td>\n",
       "      <td>democrats</td>\n",
       "    </tr>\n",
       "    <tr>\n",
       "      <th>25</th>\n",
       "      <td>positive</td>\n",
       "      <td>joined colleagues, this a.m. in announcing dis...</td>\n",
       "      <td>2</td>\n",
       "      <td>4</td>\n",
       "      <td>house</td>\n",
       "      <td>democrats</td>\n",
       "    </tr>\n",
       "    <tr>\n",
       "      <th>26</th>\n",
       "      <td>positive</td>\n",
       "      <td>. welcomes chinese president xi jinping to dis...</td>\n",
       "      <td>2</td>\n",
       "      <td>4</td>\n",
       "      <td>house</td>\n",
       "      <td>democrats</td>\n",
       "    </tr>\n",
       "    <tr>\n",
       "      <th>27</th>\n",
       "      <td>positive</td>\n",
       "      <td>at a welcome ceremony this morning in d.c. w/ ...</td>\n",
       "      <td>2</td>\n",
       "      <td>2</td>\n",
       "      <td>house</td>\n",
       "      <td>democrats</td>\n",
       "    </tr>\n",
       "    <tr>\n",
       "      <th>28</th>\n",
       "      <td>negative</td>\n",
       "      <td>rt if u.s. companies do not get involved with ...</td>\n",
       "      <td>0</td>\n",
       "      <td>4</td>\n",
       "      <td>house</td>\n",
       "      <td>democrats</td>\n",
       "    </tr>\n",
       "    <tr>\n",
       "      <th>29</th>\n",
       "      <td>negative</td>\n",
       "      <td>we exported more made-in-america good to china...</td>\n",
       "      <td>2</td>\n",
       "      <td>2</td>\n",
       "      <td>house</td>\n",
       "      <td>democrats</td>\n",
       "    </tr>\n",
       "    <tr>\n",
       "      <th>30</th>\n",
       "      <td>negative</td>\n",
       "      <td>china is already refusing to buy our agricultu...</td>\n",
       "      <td>16</td>\n",
       "      <td>7</td>\n",
       "      <td>house</td>\n",
       "      <td>democrats</td>\n",
       "    </tr>\n",
       "    <tr>\n",
       "      <th>31</th>\n",
       "      <td>negative</td>\n",
       "      <td>unilateral tariffs will not bring china to the...</td>\n",
       "      <td>23</td>\n",
       "      <td>14</td>\n",
       "      <td>house</td>\n",
       "      <td>democrats</td>\n",
       "    </tr>\n",
       "    <tr>\n",
       "      <th>32</th>\n",
       "      <td>positive</td>\n",
       "      <td>today, the held a hearing on the u.s.-china tr...</td>\n",
       "      <td>12</td>\n",
       "      <td>1</td>\n",
       "      <td>house</td>\n",
       "      <td>democrats</td>\n",
       "    </tr>\n",
       "    <tr>\n",
       "      <th>33</th>\n",
       "      <td>negative</td>\n",
       "      <td>\"instead of a go-it-alone approach, the united...</td>\n",
       "      <td>14</td>\n",
       "      <td>8</td>\n",
       "      <td>house</td>\n",
       "      <td>democrats</td>\n",
       "    </tr>\n",
       "    <tr>\n",
       "      <th>34</th>\n",
       "      <td>negative</td>\n",
       "      <td>instead of a president who goes to china and p...</td>\n",
       "      <td>14</td>\n",
       "      <td>6</td>\n",
       "      <td>house</td>\n",
       "      <td>democrats</td>\n",
       "    </tr>\n",
       "    <tr>\n",
       "      <th>35</th>\n",
       "      <td>negative</td>\n",
       "      <td>as said when it comes important international ...</td>\n",
       "      <td>4</td>\n",
       "      <td>2</td>\n",
       "      <td>house</td>\n",
       "      <td>democrats</td>\n",
       "    </tr>\n",
       "    <tr>\n",
       "      <th>36</th>\n",
       "      <td>negative</td>\n",
       "      <td>u.s. china ratifying the marks an important st...</td>\n",
       "      <td>4</td>\n",
       "      <td>2</td>\n",
       "      <td>house</td>\n",
       "      <td>democrats</td>\n",
       "    </tr>\n",
       "    <tr>\n",
       "      <th>37</th>\n",
       "      <td>negative</td>\n",
       "      <td>rt . nearly 200 countries, including china ind...</td>\n",
       "      <td>0</td>\n",
       "      <td>129</td>\n",
       "      <td>house</td>\n",
       "      <td>democrats</td>\n",
       "    </tr>\n",
       "    <tr>\n",
       "      <th>38</th>\n",
       "      <td>positive</td>\n",
       "      <td>my statement on the escalating tariffs on china.</td>\n",
       "      <td>25</td>\n",
       "      <td>8</td>\n",
       "      <td>house</td>\n",
       "      <td>democrats</td>\n",
       "    </tr>\n",
       "    <tr>\n",
       "      <th>39</th>\n",
       "      <td>negative</td>\n",
       "      <td>\"while farm families like mine support efforts...</td>\n",
       "      <td>27</td>\n",
       "      <td>4</td>\n",
       "      <td>house</td>\n",
       "      <td>democrats</td>\n",
       "    </tr>\n",
       "  </tbody>\n",
       "</table>\n",
       "</div>"
      ],
      "text/plain": [
       "   sentiment                                             Tweets  Likes   RTs  \\\n",
       "0   negative  by adopting russian disinformation tactics dep...    535   173   \n",
       "1   negative  the u.s. cannot lose its voice when human righ...   4553   997   \n",
       "2   negative  the people of hong kong deserve to have their ...    363    80   \n",
       "3   negative  words of world leaders can have dangerous cons...   4102  1376   \n",
       "4   negative  unfortunately, president trump has not only ce...   3524   922   \n",
       "5   negative  the ongoing trade war with china not only hurt...     46    16   \n",
       "6   positive  this directly hurts farmers in my district. as...     15     8   \n",
       "7   negative  soybean growers in tell me over over that they...     27    14   \n",
       "8   negative  tomorrow, yet another round of retaliatory tar...     39    15   \n",
       "9   negative  ☑️require the administration to develop an unc...      5     2   \n",
       "10  negative  this retaliatory response by china was predict...     34    12   \n",
       "11  negative  this morning, china announced new retaliatory ...     96    37   \n",
       "12  negative  when we raise tariffs against chinese goods, t...     30     8   \n",
       "13  negative  withdrawing from international agreements does...     94    22   \n",
       "14  positive  weekend highlight – attending the beautiful ch...     55     6   \n",
       "15  negative  12- as a member of the i wanted to hear more f...     23     7   \n",
       "16  negative  rt the peaceful demonstrators in hong kong are...      0     3   \n",
       "17  negative  rt demonstrations against repression, censorsh...      0     1   \n",
       "18  positive  thanks to jia xi and xu min from the chinese e...      1     1   \n",
       "19  positive  the welcome to recgntion evnt 4 chinese labore...      1     3   \n",
       "20  positive  very concerned about china’s encroachment of o...      7     3   \n",
       "21  negative  at listening to our panel speak on how we can ...     14     1   \n",
       "22  positive  to all those celebrating - happy chinese new y...      1     2   \n",
       "23  negative  2/3 i'm deeply concerned and disappointed by a...      7     5   \n",
       "24  negative  america is in a high-stakes battle between chi...      8     3   \n",
       "25  positive  joined colleagues, this a.m. in announcing dis...      2     4   \n",
       "26  positive  . welcomes chinese president xi jinping to dis...      2     4   \n",
       "27  positive  at a welcome ceremony this morning in d.c. w/ ...      2     2   \n",
       "28  negative  rt if u.s. companies do not get involved with ...      0     4   \n",
       "29  negative  we exported more made-in-america good to china...      2     2   \n",
       "30  negative  china is already refusing to buy our agricultu...     16     7   \n",
       "31  negative  unilateral tariffs will not bring china to the...     23    14   \n",
       "32  positive  today, the held a hearing on the u.s.-china tr...     12     1   \n",
       "33  negative  \"instead of a go-it-alone approach, the united...     14     8   \n",
       "34  negative  instead of a president who goes to china and p...     14     6   \n",
       "35  negative  as said when it comes important international ...      4     2   \n",
       "36  negative  u.s. china ratifying the marks an important st...      4     2   \n",
       "37  negative  rt . nearly 200 countries, including china ind...      0   129   \n",
       "38  positive   my statement on the escalating tariffs on china.     25     8   \n",
       "39  negative  \"while farm families like mine support efforts...     27     4   \n",
       "\n",
       "   chamber      party  \n",
       "0    house  democrats  \n",
       "1    house  democrats  \n",
       "2    house  democrats  \n",
       "3    house  democrats  \n",
       "4    house  democrats  \n",
       "5    house  democrats  \n",
       "6    house  democrats  \n",
       "7    house  democrats  \n",
       "8    house  democrats  \n",
       "9    house  democrats  \n",
       "10   house  democrats  \n",
       "11   house  democrats  \n",
       "12   house  democrats  \n",
       "13   house  democrats  \n",
       "14   house  democrats  \n",
       "15   house  democrats  \n",
       "16   house  democrats  \n",
       "17   house  democrats  \n",
       "18   house  democrats  \n",
       "19   house  democrats  \n",
       "20   house  democrats  \n",
       "21   house  democrats  \n",
       "22   house  democrats  \n",
       "23   house  democrats  \n",
       "24   house  democrats  \n",
       "25   house  democrats  \n",
       "26   house  democrats  \n",
       "27   house  democrats  \n",
       "28   house  democrats  \n",
       "29   house  democrats  \n",
       "30   house  democrats  \n",
       "31   house  democrats  \n",
       "32   house  democrats  \n",
       "33   house  democrats  \n",
       "34   house  democrats  \n",
       "35   house  democrats  \n",
       "36   house  democrats  \n",
       "37   house  democrats  \n",
       "38   house  democrats  \n",
       "39   house  democrats  "
      ]
     },
     "execution_count": 49,
     "metadata": {},
     "output_type": "execute_result"
    }
   ],
   "source": [
    "test_pred['sentiment'] = test_pred['Tweets'].apply(lambda row: str(learn.predict(row)[0]))\n",
    "test_pred.head(40)"
   ]
  },
  {
   "cell_type": "code",
   "execution_count": 50,
   "metadata": {},
   "outputs": [
    {
     "data": {
      "text/plain": [
       "(4966, 6)"
      ]
     },
     "execution_count": 50,
     "metadata": {},
     "output_type": "execute_result"
    }
   ],
   "source": [
    "test_pred.shape"
   ]
  },
  {
   "cell_type": "code",
   "execution_count": 51,
   "metadata": {},
   "outputs": [],
   "source": [
    "test_pred.to_csv('allsenatorsandrepsoutput.csv')"
   ]
  }
 ],
 "metadata": {
  "kernelspec": {
   "display_name": "Python 3",
   "language": "python",
   "name": "python3"
  },
  "language_info": {
   "codemirror_mode": {
    "name": "ipython",
    "version": 3
   },
   "file_extension": ".py",
   "mimetype": "text/x-python",
   "name": "python",
   "nbconvert_exporter": "python",
   "pygments_lexer": "ipython3",
   "version": "3.7.3"
  }
 },
 "nbformat": 4,
 "nbformat_minor": 2
}
