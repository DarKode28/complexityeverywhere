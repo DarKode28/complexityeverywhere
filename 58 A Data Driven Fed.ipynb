{
 "cells": [
  {
   "cell_type": "markdown",
   "metadata": {},
   "source": [
    "# Fed Rate Decision Based on Quant Econ Data"
   ]
  },
  {
   "cell_type": "code",
   "execution_count": 1,
   "metadata": {},
   "outputs": [],
   "source": [
    "%reload_ext autoreload\n",
    "%autoreload\n",
    "%matplotlib inline"
   ]
  },
  {
   "cell_type": "code",
   "execution_count": 2,
   "metadata": {},
   "outputs": [],
   "source": [
    "from fastai.tabular import *"
   ]
  },
  {
   "cell_type": "markdown",
   "metadata": {},
   "source": [
    "Tabular data should be in a Pandas `DataFrame`."
   ]
  },
  {
   "cell_type": "code",
   "execution_count": 3,
   "metadata": {},
   "outputs": [],
   "source": [
    "path = Path('fedecondata')"
   ]
  },
  {
   "cell_type": "code",
   "execution_count": 4,
   "metadata": {},
   "outputs": [
    {
     "data": {
      "text/plain": [
       "[PosixPath('fedecondata/feddata3.csv'),\n",
       " PosixPath('fedecondata/fdata.csv'),\n",
       " PosixPath('fedecondata/new1992.csv'),\n",
       " PosixPath('fedecondata/fdata6.csv'),\n",
       " PosixPath('fedecondata/fed1978v4.csv'),\n",
       " PosixPath('fedecondata/fed1978v2.csv'),\n",
       " PosixPath('fedecondata/.ipynb_checkpoints'),\n",
       " PosixPath('fedecondata/fed1978.csv'),\n",
       " PosixPath('fedecondata/fdata2.csv'),\n",
       " PosixPath('fedecondata/fedtest2.csv'),\n",
       " PosixPath('fedecondata/fdata5.csv'),\n",
       " PosixPath('fedecondata/models'),\n",
       " PosixPath('fedecondata/f1992.csv'),\n",
       " PosixPath('fedecondata/fdata4.csv'),\n",
       " PosixPath('fedecondata/fdata10.csv'),\n",
       " PosixPath('fedecondata/fdatanew.csv')]"
      ]
     },
     "execution_count": 4,
     "metadata": {},
     "output_type": "execute_result"
    }
   ],
   "source": [
    "path.ls()"
   ]
  },
  {
   "cell_type": "code",
   "execution_count": 5,
   "metadata": {},
   "outputs": [],
   "source": [
    "df = pd.read_csv(path/'new1992.csv')"
   ]
  },
  {
   "cell_type": "code",
   "execution_count": 6,
   "metadata": {},
   "outputs": [
    {
     "data": {
      "text/html": [
       "<div>\n",
       "<style scoped>\n",
       "    .dataframe tbody tr th:only-of-type {\n",
       "        vertical-align: middle;\n",
       "    }\n",
       "\n",
       "    .dataframe tbody tr th {\n",
       "        vertical-align: top;\n",
       "    }\n",
       "\n",
       "    .dataframe thead th {\n",
       "        text-align: right;\n",
       "    }\n",
       "</style>\n",
       "<table border=\"1\" class=\"dataframe\">\n",
       "  <thead>\n",
       "    <tr style=\"text-align: right;\">\n",
       "      <th></th>\n",
       "      <th>date</th>\n",
       "      <th>cpi</th>\n",
       "      <th>inflation</th>\n",
       "      <th>inflationexpectations</th>\n",
       "      <th>employment</th>\n",
       "      <th>unemployment</th>\n",
       "      <th>participationrate</th>\n",
       "      <th>employmenttopopulationrate</th>\n",
       "      <th>parttimeworkers</th>\n",
       "      <th>joblessclaims</th>\n",
       "      <th>...</th>\n",
       "      <th>jp_unemploymentrate</th>\n",
       "      <th>jp_manufacturing</th>\n",
       "      <th>jp_shortrates</th>\n",
       "      <th>jp_10yr</th>\n",
       "      <th>jp_servicespmi</th>\n",
       "      <th>jp_manufacturingpmi</th>\n",
       "      <th>uspmi</th>\n",
       "      <th>euro_servicespmi</th>\n",
       "      <th>euro_manufacturingpmi</th>\n",
       "      <th>decision</th>\n",
       "    </tr>\n",
       "  </thead>\n",
       "  <tbody>\n",
       "    <tr>\n",
       "      <th>0</th>\n",
       "      <td>1/1/92</td>\n",
       "      <td>138.3</td>\n",
       "      <td>68.667</td>\n",
       "      <td>2.7</td>\n",
       "      <td>108372</td>\n",
       "      <td>7.3</td>\n",
       "      <td>66.3</td>\n",
       "      <td>61.5</td>\n",
       "      <td>6593</td>\n",
       "      <td>439000</td>\n",
       "      <td>...</td>\n",
       "      <td>2.1</td>\n",
       "      <td>-3.8</td>\n",
       "      <td>4.50</td>\n",
       "      <td>5.449</td>\n",
       "      <td>NaN</td>\n",
       "      <td>NaN</td>\n",
       "      <td>47.3</td>\n",
       "      <td>NaN</td>\n",
       "      <td>NaN</td>\n",
       "      <td>lower</td>\n",
       "    </tr>\n",
       "    <tr>\n",
       "      <th>1</th>\n",
       "      <td>2/1/92</td>\n",
       "      <td>138.6</td>\n",
       "      <td>68.854</td>\n",
       "      <td>2.6</td>\n",
       "      <td>108313</td>\n",
       "      <td>7.4</td>\n",
       "      <td>66.2</td>\n",
       "      <td>61.3</td>\n",
       "      <td>6551</td>\n",
       "      <td>442200</td>\n",
       "      <td>...</td>\n",
       "      <td>2.0</td>\n",
       "      <td>-4.5</td>\n",
       "      <td>4.50</td>\n",
       "      <td>5.578</td>\n",
       "      <td>NaN</td>\n",
       "      <td>NaN</td>\n",
       "      <td>52.7</td>\n",
       "      <td>NaN</td>\n",
       "      <td>NaN</td>\n",
       "      <td>lower</td>\n",
       "    </tr>\n",
       "    <tr>\n",
       "      <th>2</th>\n",
       "      <td>3/1/92</td>\n",
       "      <td>139.1</td>\n",
       "      <td>69.026</td>\n",
       "      <td>2.6</td>\n",
       "      <td>108368</td>\n",
       "      <td>7.4</td>\n",
       "      <td>66.4</td>\n",
       "      <td>61.5</td>\n",
       "      <td>6531</td>\n",
       "      <td>429500</td>\n",
       "      <td>...</td>\n",
       "      <td>2.1</td>\n",
       "      <td>-5.4</td>\n",
       "      <td>4.50</td>\n",
       "      <td>5.531</td>\n",
       "      <td>NaN</td>\n",
       "      <td>NaN</td>\n",
       "      <td>54.6</td>\n",
       "      <td>NaN</td>\n",
       "      <td>NaN</td>\n",
       "      <td>lower</td>\n",
       "    </tr>\n",
       "    <tr>\n",
       "      <th>3</th>\n",
       "      <td>4/1/92</td>\n",
       "      <td>139.4</td>\n",
       "      <td>69.252</td>\n",
       "      <td>3.0</td>\n",
       "      <td>108523</td>\n",
       "      <td>7.4</td>\n",
       "      <td>66.5</td>\n",
       "      <td>61.6</td>\n",
       "      <td>6492</td>\n",
       "      <td>418250</td>\n",
       "      <td>...</td>\n",
       "      <td>2.1</td>\n",
       "      <td>-5.8</td>\n",
       "      <td>3.75</td>\n",
       "      <td>5.710</td>\n",
       "      <td>NaN</td>\n",
       "      <td>NaN</td>\n",
       "      <td>52.6</td>\n",
       "      <td>NaN</td>\n",
       "      <td>NaN</td>\n",
       "      <td>lower</td>\n",
       "    </tr>\n",
       "    <tr>\n",
       "      <th>4</th>\n",
       "      <td>5/1/92</td>\n",
       "      <td>139.7</td>\n",
       "      <td>69.350</td>\n",
       "      <td>2.9</td>\n",
       "      <td>108652</td>\n",
       "      <td>7.6</td>\n",
       "      <td>66.6</td>\n",
       "      <td>61.5</td>\n",
       "      <td>6550</td>\n",
       "      <td>417400</td>\n",
       "      <td>...</td>\n",
       "      <td>2.1</td>\n",
       "      <td>-9.1</td>\n",
       "      <td>3.75</td>\n",
       "      <td>5.739</td>\n",
       "      <td>NaN</td>\n",
       "      <td>NaN</td>\n",
       "      <td>55.7</td>\n",
       "      <td>NaN</td>\n",
       "      <td>NaN</td>\n",
       "      <td>hold</td>\n",
       "    </tr>\n",
       "  </tbody>\n",
       "</table>\n",
       "<p>5 rows × 74 columns</p>\n",
       "</div>"
      ],
      "text/plain": [
       "     date    cpi  inflation  inflationexpectations  employment  unemployment  \\\n",
       "0  1/1/92  138.3     68.667                    2.7      108372           7.3   \n",
       "1  2/1/92  138.6     68.854                    2.6      108313           7.4   \n",
       "2  3/1/92  139.1     69.026                    2.6      108368           7.4   \n",
       "3  4/1/92  139.4     69.252                    3.0      108523           7.4   \n",
       "4  5/1/92  139.7     69.350                    2.9      108652           7.6   \n",
       "\n",
       "   participationrate  employmenttopopulationrate  parttimeworkers  \\\n",
       "0               66.3                        61.5             6593   \n",
       "1               66.2                        61.3             6551   \n",
       "2               66.4                        61.5             6531   \n",
       "3               66.5                        61.6             6492   \n",
       "4               66.6                        61.5             6550   \n",
       "\n",
       "   joblessclaims    ...     jp_unemploymentrate  jp_manufacturing  \\\n",
       "0         439000    ...                     2.1              -3.8   \n",
       "1         442200    ...                     2.0              -4.5   \n",
       "2         429500    ...                     2.1              -5.4   \n",
       "3         418250    ...                     2.1              -5.8   \n",
       "4         417400    ...                     2.1              -9.1   \n",
       "\n",
       "   jp_shortrates  jp_10yr  jp_servicespmi  jp_manufacturingpmi  uspmi  \\\n",
       "0           4.50    5.449             NaN                  NaN   47.3   \n",
       "1           4.50    5.578             NaN                  NaN   52.7   \n",
       "2           4.50    5.531             NaN                  NaN   54.6   \n",
       "3           3.75    5.710             NaN                  NaN   52.6   \n",
       "4           3.75    5.739             NaN                  NaN   55.7   \n",
       "\n",
       "   euro_servicespmi  euro_manufacturingpmi  decision  \n",
       "0               NaN                    NaN     lower  \n",
       "1               NaN                    NaN     lower  \n",
       "2               NaN                    NaN     lower  \n",
       "3               NaN                    NaN     lower  \n",
       "4               NaN                    NaN      hold  \n",
       "\n",
       "[5 rows x 74 columns]"
      ]
     },
     "execution_count": 6,
     "metadata": {},
     "output_type": "execute_result"
    }
   ],
   "source": [
    "df.head()"
   ]
  },
  {
   "cell_type": "code",
   "execution_count": null,
   "metadata": {},
   "outputs": [],
   "source": [
    "# testrow = testdf.iloc[0]\n",
    "# learn.predict(testrow)"
   ]
  },
  {
   "cell_type": "markdown",
   "metadata": {},
   "source": [
    "### Classification"
   ]
  },
  {
   "cell_type": "code",
   "execution_count": 7,
   "metadata": {},
   "outputs": [],
   "source": [
    "# predict decision\n",
    "dep_var = 'decision'\n",
    "cat_names = ['date']\n",
    "cont_names = ['cpi','inflation','inflationexpectations','employment','unemployment','participationrate','employmenttopopulationrate','parttimeworkers','joblessclaims','industrialproduction','autoassemblies','ism','lightvehiclesales','consumersentiment','housingstartssingle','housingstartsmulti','buildingpermits','advanceretailsales','newhomesales','capitalgoodsshipments','capitalgoodsorders','constructionnonres','leadingindex','recessionprob','crudeoil','dollarindex','m1','2yearmaturity','aaacorpbondto10year','policyu','ltyield','vix','gold','baacorptotreas','90dayeurodollar','spreturn','libor','caseindex','m2','eurusd','eurgovtbondyields','tenyearthreemonth','monthstopotuselection','tedspread','nyfedrprob', 'exports', 'imports', 'oecdbizconditions', 'ger_ltyields', 'ger_3month', 'ger_unemp', 'ger_industrialprod', 'ger_neworders', 'ger_servicespmi', 'ger_manufacturingpmi', 'ch_industrialprod', 'ch_electric', 'ch_consumerconf', 'ch_compositepmi', 'ch_caixinpmi', 'jp_industrialprod', 'jp_neworders', 'jp_unemploymentrate', 'jp_manufacturing', 'jp_shortrates', 'jp_10yr', 'jp_servicespmi', 'jp_manufacturingpmi', 'uspmi', 'euro_servicespmi', 'euro_manufacturingpmi', 'rate']\n",
    "procs = [FillMissing, Categorify, Normalize]"
   ]
  },
  {
   "cell_type": "code",
   "execution_count": 8,
   "metadata": {},
   "outputs": [],
   "source": [
    "valid_idx = range(len(df)-90, len(df)-5)"
   ]
  },
  {
   "cell_type": "code",
   "execution_count": 9,
   "metadata": {},
   "outputs": [
    {
     "data": {
      "text/plain": [
       "range(240, 325)"
      ]
     },
     "execution_count": 9,
     "metadata": {},
     "output_type": "execute_result"
    }
   ],
   "source": [
    "valid_idx"
   ]
  },
  {
   "cell_type": "code",
   "execution_count": 10,
   "metadata": {},
   "outputs": [],
   "source": [
    "test = TabularList.from_df(df.iloc[325:330].copy(), path=path, cat_names=cat_names, cont_names=cont_names)"
   ]
  },
  {
   "cell_type": "code",
   "execution_count": 11,
   "metadata": {},
   "outputs": [],
   "source": [
    "data = (TabularList.from_df(df, path=path, cat_names=cat_names, cont_names=cont_names, procs=procs)\n",
    "                           .split_by_idx(valid_idx)\n",
    "                           .label_from_df(cols=dep_var)\n",
    "                           .add_test(test)\n",
    "                           .databunch())"
   ]
  },
  {
   "cell_type": "code",
   "execution_count": 12,
   "metadata": {},
   "outputs": [
    {
     "data": {
      "text/html": [
       "<table border=\"1\" class=\"dataframe\">\n",
       "  <thead>\n",
       "    <tr style=\"text-align: right;\">\n",
       "      <th>date</th>\n",
       "      <th>ger_servicespmi_na</th>\n",
       "      <th>ger_manufacturingpmi_na</th>\n",
       "      <th>ch_compositepmi_na</th>\n",
       "      <th>ch_caixinpmi_na</th>\n",
       "      <th>jp_servicespmi_na</th>\n",
       "      <th>jp_manufacturingpmi_na</th>\n",
       "      <th>euro_servicespmi_na</th>\n",
       "      <th>euro_manufacturingpmi_na</th>\n",
       "      <th>cpi</th>\n",
       "      <th>inflation</th>\n",
       "      <th>inflationexpectations</th>\n",
       "      <th>employment</th>\n",
       "      <th>unemployment</th>\n",
       "      <th>participationrate</th>\n",
       "      <th>employmenttopopulationrate</th>\n",
       "      <th>parttimeworkers</th>\n",
       "      <th>joblessclaims</th>\n",
       "      <th>industrialproduction</th>\n",
       "      <th>autoassemblies</th>\n",
       "      <th>ism</th>\n",
       "      <th>lightvehiclesales</th>\n",
       "      <th>consumersentiment</th>\n",
       "      <th>housingstartssingle</th>\n",
       "      <th>housingstartsmulti</th>\n",
       "      <th>buildingpermits</th>\n",
       "      <th>advanceretailsales</th>\n",
       "      <th>newhomesales</th>\n",
       "      <th>capitalgoodsshipments</th>\n",
       "      <th>capitalgoodsorders</th>\n",
       "      <th>constructionnonres</th>\n",
       "      <th>leadingindex</th>\n",
       "      <th>recessionprob</th>\n",
       "      <th>crudeoil</th>\n",
       "      <th>dollarindex</th>\n",
       "      <th>m1</th>\n",
       "      <th>2yearmaturity</th>\n",
       "      <th>aaacorpbondto10year</th>\n",
       "      <th>policyu</th>\n",
       "      <th>ltyield</th>\n",
       "      <th>vix</th>\n",
       "      <th>gold</th>\n",
       "      <th>baacorptotreas</th>\n",
       "      <th>90dayeurodollar</th>\n",
       "      <th>spreturn</th>\n",
       "      <th>libor</th>\n",
       "      <th>caseindex</th>\n",
       "      <th>m2</th>\n",
       "      <th>eurusd</th>\n",
       "      <th>eurgovtbondyields</th>\n",
       "      <th>tenyearthreemonth</th>\n",
       "      <th>monthstopotuselection</th>\n",
       "      <th>tedspread</th>\n",
       "      <th>nyfedrprob</th>\n",
       "      <th>exports</th>\n",
       "      <th>imports</th>\n",
       "      <th>oecdbizconditions</th>\n",
       "      <th>ger_ltyields</th>\n",
       "      <th>ger_3month</th>\n",
       "      <th>ger_unemp</th>\n",
       "      <th>ger_industrialprod</th>\n",
       "      <th>ger_neworders</th>\n",
       "      <th>ger_servicespmi</th>\n",
       "      <th>ger_manufacturingpmi</th>\n",
       "      <th>ch_industrialprod</th>\n",
       "      <th>ch_electric</th>\n",
       "      <th>ch_consumerconf</th>\n",
       "      <th>ch_compositepmi</th>\n",
       "      <th>ch_caixinpmi</th>\n",
       "      <th>jp_industrialprod</th>\n",
       "      <th>jp_neworders</th>\n",
       "      <th>jp_unemploymentrate</th>\n",
       "      <th>jp_manufacturing</th>\n",
       "      <th>jp_shortrates</th>\n",
       "      <th>jp_10yr</th>\n",
       "      <th>jp_servicespmi</th>\n",
       "      <th>jp_manufacturingpmi</th>\n",
       "      <th>uspmi</th>\n",
       "      <th>euro_servicespmi</th>\n",
       "      <th>euro_manufacturingpmi</th>\n",
       "      <th>rate</th>\n",
       "      <th>target</th>\n",
       "    </tr>\n",
       "  </thead>\n",
       "  <tbody>\n",
       "    <tr>\n",
       "      <td>12/1/04</td>\n",
       "      <td>True</td>\n",
       "      <td>True</td>\n",
       "      <td>True</td>\n",
       "      <td>True</td>\n",
       "      <td>True</td>\n",
       "      <td>True</td>\n",
       "      <td>True</td>\n",
       "      <td>True</td>\n",
       "      <td>0.3454</td>\n",
       "      <td>0.3255</td>\n",
       "      <td>0.0919</td>\n",
       "      <td>0.5369</td>\n",
       "      <td>-0.3043</td>\n",
       "      <td>-0.3204</td>\n",
       "      <td>0.0649</td>\n",
       "      <td>-0.4052</td>\n",
       "      <td>-0.5844</td>\n",
       "      <td>0.7717</td>\n",
       "      <td>0.5099</td>\n",
       "      <td>1.5925</td>\n",
       "      <td>1.1722</td>\n",
       "      <td>0.6915</td>\n",
       "      <td>1.6026</td>\n",
       "      <td>0.3619</td>\n",
       "      <td>1.4778</td>\n",
       "      <td>0.6159</td>\n",
       "      <td>1.4838</td>\n",
       "      <td>0.0469</td>\n",
       "      <td>0.3358</td>\n",
       "      <td>-0.1511</td>\n",
       "      <td>0.2387</td>\n",
       "      <td>-0.3299</td>\n",
       "      <td>0.0353</td>\n",
       "      <td>0.2196</td>\n",
       "      <td>0.0918</td>\n",
       "      <td>-0.4182</td>\n",
       "      <td>-0.2996</td>\n",
       "      <td>-1.3414</td>\n",
       "      <td>-0.5532</td>\n",
       "      <td>-0.9703</td>\n",
       "      <td>-0.3325</td>\n",
       "      <td>-0.5677</td>\n",
       "      <td>-0.5961</td>\n",
       "      <td>0.5288</td>\n",
       "      <td>-0.5646</td>\n",
       "      <td>0.9362</td>\n",
       "      <td>0.2646</td>\n",
       "      <td>1.1322</td>\n",
       "      <td>-0.8473</td>\n",
       "      <td>0.1984</td>\n",
       "      <td>1.7151</td>\n",
       "      <td>-0.5425</td>\n",
       "      <td>-0.8286</td>\n",
       "      <td>0.0543</td>\n",
       "      <td>0.4467</td>\n",
       "      <td>0.9699</td>\n",
       "      <td>-0.6921</td>\n",
       "      <td>-0.6858</td>\n",
       "      <td>0.9679</td>\n",
       "      <td>0.0764</td>\n",
       "      <td>0.5615</td>\n",
       "      <td>0.0347</td>\n",
       "      <td>0.0803</td>\n",
       "      <td>0.0875</td>\n",
       "      <td>0.1526</td>\n",
       "      <td>-0.4053</td>\n",
       "      <td>-0.0261</td>\n",
       "      <td>0.0421</td>\n",
       "      <td>0.6731</td>\n",
       "      <td>0.0016</td>\n",
       "      <td>0.4330</td>\n",
       "      <td>0.2345</td>\n",
       "      <td>-0.6140</td>\n",
       "      <td>-0.5423</td>\n",
       "      <td>-0.0272</td>\n",
       "      <td>0.1115</td>\n",
       "      <td>1.0189</td>\n",
       "      <td>0.1290</td>\n",
       "      <td>0.0922</td>\n",
       "      <td>-0.5828</td>\n",
       "      <td>raise</td>\n",
       "    </tr>\n",
       "    <tr>\n",
       "      <td>10/1/06</td>\n",
       "      <td>True</td>\n",
       "      <td>True</td>\n",
       "      <td>True</td>\n",
       "      <td>True</td>\n",
       "      <td>True</td>\n",
       "      <td>True</td>\n",
       "      <td>True</td>\n",
       "      <td>True</td>\n",
       "      <td>0.7115</td>\n",
       "      <td>0.7223</td>\n",
       "      <td>0.2706</td>\n",
       "      <td>1.0033</td>\n",
       "      <td>-0.9013</td>\n",
       "      <td>0.0103</td>\n",
       "      <td>0.5857</td>\n",
       "      <td>-0.4478</td>\n",
       "      <td>-0.7188</td>\n",
       "      <td>1.0856</td>\n",
       "      <td>-0.3014</td>\n",
       "      <td>-0.1346</td>\n",
       "      <td>0.5649</td>\n",
       "      <td>0.4314</td>\n",
       "      <td>0.2530</td>\n",
       "      <td>-0.0990</td>\n",
       "      <td>0.3571</td>\n",
       "      <td>0.9620</td>\n",
       "      <td>0.8802</td>\n",
       "      <td>0.9300</td>\n",
       "      <td>1.3189</td>\n",
       "      <td>0.8903</td>\n",
       "      <td>-0.0849</td>\n",
       "      <td>-0.3246</td>\n",
       "      <td>0.5938</td>\n",
       "      <td>0.1743</td>\n",
       "      <td>0.0790</td>\n",
       "      <td>0.4986</td>\n",
       "      <td>-1.2733</td>\n",
       "      <td>-1.2794</td>\n",
       "      <td>-0.1889</td>\n",
       "      <td>-1.1102</td>\n",
       "      <td>0.1258</td>\n",
       "      <td>-0.8337</td>\n",
       "      <td>0.8511</td>\n",
       "      <td>0.7602</td>\n",
       "      <td>0.8477</td>\n",
       "      <td>1.6026</td>\n",
       "      <td>0.5182</td>\n",
       "      <td>0.7020</td>\n",
       "      <td>-0.7513</td>\n",
       "      <td>-1.7487</td>\n",
       "      <td>0.1157</td>\n",
       "      <td>-0.1793</td>\n",
       "      <td>0.6411</td>\n",
       "      <td>0.6571</td>\n",
       "      <td>0.9478</td>\n",
       "      <td>-0.2595</td>\n",
       "      <td>-0.5614</td>\n",
       "      <td>-0.0522</td>\n",
       "      <td>0.5642</td>\n",
       "      <td>1.0807</td>\n",
       "      <td>1.2572</td>\n",
       "      <td>0.0347</td>\n",
       "      <td>0.0803</td>\n",
       "      <td>0.1499</td>\n",
       "      <td>0.5010</td>\n",
       "      <td>0.1098</td>\n",
       "      <td>-0.0261</td>\n",
       "      <td>0.0421</td>\n",
       "      <td>0.5660</td>\n",
       "      <td>-0.1528</td>\n",
       "      <td>0.0153</td>\n",
       "      <td>0.8994</td>\n",
       "      <td>-0.3593</td>\n",
       "      <td>-0.2937</td>\n",
       "      <td>-0.0272</td>\n",
       "      <td>0.1115</td>\n",
       "      <td>-0.1757</td>\n",
       "      <td>0.1290</td>\n",
       "      <td>0.0922</td>\n",
       "      <td>0.9245</td>\n",
       "      <td>hold</td>\n",
       "    </tr>\n",
       "    <tr>\n",
       "      <td>5/1/10</td>\n",
       "      <td>False</td>\n",
       "      <td>False</td>\n",
       "      <td>True</td>\n",
       "      <td>True</td>\n",
       "      <td>True</td>\n",
       "      <td>False</td>\n",
       "      <td>False</td>\n",
       "      <td>False</td>\n",
       "      <td>1.2639</td>\n",
       "      <td>1.3126</td>\n",
       "      <td>0.4493</td>\n",
       "      <td>0.3186</td>\n",
       "      <td>2.2030</td>\n",
       "      <td>-1.4227</td>\n",
       "      <td>-2.1338</td>\n",
       "      <td>2.1035</td>\n",
       "      <td>1.2647</td>\n",
       "      <td>0.4328</td>\n",
       "      <td>-1.4806</td>\n",
       "      <td>1.1395</td>\n",
       "      <td>-1.5298</td>\n",
       "      <td>-1.0547</td>\n",
       "      <td>-1.7767</td>\n",
       "      <td>-1.6118</td>\n",
       "      <td>-1.8207</td>\n",
       "      <td>0.8514</td>\n",
       "      <td>-1.3194</td>\n",
       "      <td>0.1785</td>\n",
       "      <td>0.5466</td>\n",
       "      <td>0.1421</td>\n",
       "      <td>0.1925</td>\n",
       "      <td>-0.3316</td>\n",
       "      <td>1.1208</td>\n",
       "      <td>-0.1270</td>\n",
       "      <td>0.8573</td>\n",
       "      <td>-1.5346</td>\n",
       "      <td>0.3355</td>\n",
       "      <td>0.3953</td>\n",
       "      <td>-1.1433</td>\n",
       "      <td>1.3918</td>\n",
       "      <td>1.7711</td>\n",
       "      <td>0.6776</td>\n",
       "      <td>-1.4968</td>\n",
       "      <td>-1.7547</td>\n",
       "      <td>-1.5672</td>\n",
       "      <td>0.6306</td>\n",
       "      <td>1.2330</td>\n",
       "      <td>0.6725</td>\n",
       "      <td>-0.8528</td>\n",
       "      <td>1.0820</td>\n",
       "      <td>0.4792</td>\n",
       "      <td>-0.5783</td>\n",
       "      <td>-0.8083</td>\n",
       "      <td>1.3490</td>\n",
       "      <td>1.1132</td>\n",
       "      <td>1.0473</td>\n",
       "      <td>-1.2209</td>\n",
       "      <td>-1.3947</td>\n",
       "      <td>-1.1855</td>\n",
       "      <td>0.9133</td>\n",
       "      <td>0.9059</td>\n",
       "      <td>0.6477</td>\n",
       "      <td>1.7093</td>\n",
       "      <td>0.5244</td>\n",
       "      <td>1.4585</td>\n",
       "      <td>-0.5296</td>\n",
       "      <td>-0.0261</td>\n",
       "      <td>0.0421</td>\n",
       "      <td>2.8490</td>\n",
       "      <td>-2.1524</td>\n",
       "      <td>1.0595</td>\n",
       "      <td>2.2885</td>\n",
       "      <td>-0.6140</td>\n",
       "      <td>-0.6507</td>\n",
       "      <td>-0.0272</td>\n",
       "      <td>1.8436</td>\n",
       "      <td>1.0601</td>\n",
       "      <td>1.5488</td>\n",
       "      <td>1.5810</td>\n",
       "      <td>-1.5388</td>\n",
       "      <td>hold</td>\n",
       "    </tr>\n",
       "    <tr>\n",
       "      <td>12/1/99</td>\n",
       "      <td>True</td>\n",
       "      <td>True</td>\n",
       "      <td>True</td>\n",
       "      <td>True</td>\n",
       "      <td>True</td>\n",
       "      <td>True</td>\n",
       "      <td>True</td>\n",
       "      <td>True</td>\n",
       "      <td>-0.4765</td>\n",
       "      <td>-0.4517</td>\n",
       "      <td>0.0919</td>\n",
       "      <td>0.3319</td>\n",
       "      <td>-1.1401</td>\n",
       "      <td>1.0025</td>\n",
       "      <td>1.2222</td>\n",
       "      <td>-1.0548</td>\n",
       "      <td>-1.2288</td>\n",
       "      <td>0.4210</td>\n",
       "      <td>1.0642</td>\n",
       "      <td>0.7431</td>\n",
       "      <td>1.2494</td>\n",
       "      <td>1.3082</td>\n",
       "      <td>0.6912</td>\n",
       "      <td>0.6692</td>\n",
       "      <td>0.6045</td>\n",
       "      <td>-0.2038</td>\n",
       "      <td>0.3137</td>\n",
       "      <td>0.6678</td>\n",
       "      <td>1.0321</td>\n",
       "      <td>-0.0070</td>\n",
       "      <td>0.8398</td>\n",
       "      <td>-0.3316</td>\n",
       "      <td>-0.5698</td>\n",
       "      <td>0.6949</td>\n",
       "      <td>-0.4889</td>\n",
       "      <td>1.1644</td>\n",
       "      <td>-0.2360</td>\n",
       "      <td>-0.6146</td>\n",
       "      <td>0.9403</td>\n",
       "      <td>0.2065</td>\n",
       "      <td>-0.7286</td>\n",
       "      <td>-0.7249</td>\n",
       "      <td>1.2457</td>\n",
       "      <td>0.5604</td>\n",
       "      <td>1.2178</td>\n",
       "      <td>-0.6150</td>\n",
       "      <td>-0.5317</td>\n",
       "      <td>-0.6646</td>\n",
       "      <td>-0.0394</td>\n",
       "      <td>-0.5054</td>\n",
       "      <td>-0.9020</td>\n",
       "      <td>1.0384</td>\n",
       "      <td>1.4784</td>\n",
       "      <td>-0.3870</td>\n",
       "      <td>-0.3674</td>\n",
       "      <td>1.0255</td>\n",
       "      <td>0.2847</td>\n",
       "      <td>-0.0789</td>\n",
       "      <td>0.5642</td>\n",
       "      <td>-0.3962</td>\n",
       "      <td>-0.2444</td>\n",
       "      <td>0.0347</td>\n",
       "      <td>0.0803</td>\n",
       "      <td>-1.3689</td>\n",
       "      <td>-0.5807</td>\n",
       "      <td>-0.1921</td>\n",
       "      <td>-0.0261</td>\n",
       "      <td>0.0421</td>\n",
       "      <td>0.7563</td>\n",
       "      <td>-0.1450</td>\n",
       "      <td>0.6419</td>\n",
       "      <td>0.6263</td>\n",
       "      <td>-0.6140</td>\n",
       "      <td>-0.2558</td>\n",
       "      <td>-0.0272</td>\n",
       "      <td>0.1115</td>\n",
       "      <td>1.1425</td>\n",
       "      <td>0.1290</td>\n",
       "      <td>0.0922</td>\n",
       "      <td>0.9488</td>\n",
       "      <td>hold</td>\n",
       "    </tr>\n",
       "    <tr>\n",
       "      <td>7/1/94</td>\n",
       "      <td>True</td>\n",
       "      <td>True</td>\n",
       "      <td>True</td>\n",
       "      <td>True</td>\n",
       "      <td>True</td>\n",
       "      <td>True</td>\n",
       "      <td>True</td>\n",
       "      <td>True</td>\n",
       "      <td>-1.2087</td>\n",
       "      <td>-1.1780</td>\n",
       "      <td>-0.0868</td>\n",
       "      <td>-1.4530</td>\n",
       "      <td>0.1136</td>\n",
       "      <td>0.2308</td>\n",
       "      <td>0.0071</td>\n",
       "      <td>-0.3609</td>\n",
       "      <td>-0.3507</td>\n",
       "      <td>-1.5435</td>\n",
       "      <td>0.2566</td>\n",
       "      <td>1.2952</td>\n",
       "      <td>-0.2728</td>\n",
       "      <td>0.0896</td>\n",
       "      <td>0.3041</td>\n",
       "      <td>-0.8436</td>\n",
       "      <td>-0.1572</td>\n",
       "      <td>-1.2716</td>\n",
       "      <td>-0.5825</td>\n",
       "      <td>-1.3758</td>\n",
       "      <td>-1.2050</td>\n",
       "      <td>-1.1343</td>\n",
       "      <td>1.1634</td>\n",
       "      <td>-0.3307</td>\n",
       "      <td>-0.7983</td>\n",
       "      <td>-1.1144</td>\n",
       "      <td>-0.4237</td>\n",
       "      <td>1.1797</td>\n",
       "      <td>-1.2098</td>\n",
       "      <td>-0.2023</td>\n",
       "      <td>1.6835</td>\n",
       "      <td>-0.9672</td>\n",
       "      <td>-0.4731</td>\n",
       "      <td>-1.0150</td>\n",
       "      <td>0.5829</td>\n",
       "      <td>-0.3565</td>\n",
       "      <td>0.5946</td>\n",
       "      <td>-1.1270</td>\n",
       "      <td>-1.0404</td>\n",
       "      <td>-0.7247</td>\n",
       "      <td>1.5041</td>\n",
       "      <td>0.7536</td>\n",
       "      <td>0.3338</td>\n",
       "      <td>-0.0037</td>\n",
       "      <td>-0.7535</td>\n",
       "      <td>-1.0739</td>\n",
       "      <td>-1.1629</td>\n",
       "      <td>1.2212</td>\n",
       "      <td>1.3735</td>\n",
       "      <td>0.6478</td>\n",
       "      <td>0.1604</td>\n",
       "      <td>-1.2429</td>\n",
       "      <td>-1.1813</td>\n",
       "      <td>0.0347</td>\n",
       "      <td>0.0803</td>\n",
       "      <td>0.2331</td>\n",
       "      <td>-0.8847</td>\n",
       "      <td>-0.4941</td>\n",
       "      <td>-0.0261</td>\n",
       "      <td>0.0421</td>\n",
       "      <td>0.1142</td>\n",
       "      <td>0.1774</td>\n",
       "      <td>-1.2377</td>\n",
       "      <td>-0.0149</td>\n",
       "      <td>1.1690</td>\n",
       "      <td>1.8846</td>\n",
       "      <td>-0.0272</td>\n",
       "      <td>0.1115</td>\n",
       "      <td>1.2867</td>\n",
       "      <td>0.1290</td>\n",
       "      <td>0.0922</td>\n",
       "      <td>0.4416</td>\n",
       "      <td>hold</td>\n",
       "    </tr>\n",
       "  </tbody>\n",
       "</table>"
      ],
      "text/plain": [
       "<IPython.core.display.HTML object>"
      ]
     },
     "metadata": {},
     "output_type": "display_data"
    }
   ],
   "source": [
    "data.show_batch(rows=5)"
   ]
  },
  {
   "cell_type": "code",
   "execution_count": 16,
   "metadata": {},
   "outputs": [],
   "source": [
    "learn = tabular_learner(data, layers=[400,100], metrics=accuracy, emb_drop=0.5)"
   ]
  },
  {
   "cell_type": "code",
   "execution_count": 17,
   "metadata": {},
   "outputs": [
    {
     "data": {
      "text/plain": [
       "TabularModel(\n",
       "  (embeds): ModuleList(\n",
       "    (0): Embedding(246, 35)\n",
       "    (1): Embedding(3, 3)\n",
       "    (2): Embedding(3, 3)\n",
       "    (3): Embedding(3, 3)\n",
       "    (4): Embedding(3, 3)\n",
       "    (5): Embedding(3, 3)\n",
       "    (6): Embedding(3, 3)\n",
       "    (7): Embedding(3, 3)\n",
       "    (8): Embedding(3, 3)\n",
       "  )\n",
       "  (emb_drop): Dropout(p=0.5)\n",
       "  (bn_cont): BatchNorm1d(72, eps=1e-05, momentum=0.1, affine=True, track_running_stats=True)\n",
       "  (layers): Sequential(\n",
       "    (0): Linear(in_features=131, out_features=400, bias=True)\n",
       "    (1): ReLU(inplace)\n",
       "    (2): BatchNorm1d(400, eps=1e-05, momentum=0.1, affine=True, track_running_stats=True)\n",
       "    (3): Linear(in_features=400, out_features=100, bias=True)\n",
       "    (4): ReLU(inplace)\n",
       "    (5): BatchNorm1d(100, eps=1e-05, momentum=0.1, affine=True, track_running_stats=True)\n",
       "    (6): Linear(in_features=100, out_features=3, bias=True)\n",
       "  )\n",
       ")"
      ]
     },
     "execution_count": 17,
     "metadata": {},
     "output_type": "execute_result"
    }
   ],
   "source": [
    "learn.model"
   ]
  },
  {
   "cell_type": "code",
   "execution_count": 18,
   "metadata": {},
   "outputs": [
    {
     "data": {
      "text/html": [
       "Total time: 00:02 <p><table border=\"1\" class=\"dataframe\">\n",
       "  <thead>\n",
       "    <tr style=\"text-align: left;\">\n",
       "      <th>epoch</th>\n",
       "      <th>train_loss</th>\n",
       "      <th>valid_loss</th>\n",
       "      <th>accuracy</th>\n",
       "      <th>time</th>\n",
       "    </tr>\n",
       "  </thead>\n",
       "  <tbody>\n",
       "    <tr>\n",
       "      <td>0</td>\n",
       "      <td>1.107439</td>\n",
       "      <td>1.054894</td>\n",
       "      <td>0.776471</td>\n",
       "      <td>00:00</td>\n",
       "    </tr>\n",
       "    <tr>\n",
       "      <td>1</td>\n",
       "      <td>1.041524</td>\n",
       "      <td>1.007720</td>\n",
       "      <td>0.894118</td>\n",
       "      <td>00:00</td>\n",
       "    </tr>\n",
       "    <tr>\n",
       "      <td>2</td>\n",
       "      <td>0.997443</td>\n",
       "      <td>0.975671</td>\n",
       "      <td>0.894118</td>\n",
       "      <td>00:00</td>\n",
       "    </tr>\n",
       "    <tr>\n",
       "      <td>3</td>\n",
       "      <td>0.957070</td>\n",
       "      <td>0.937673</td>\n",
       "      <td>0.894118</td>\n",
       "      <td>00:00</td>\n",
       "    </tr>\n",
       "    <tr>\n",
       "      <td>4</td>\n",
       "      <td>0.935968</td>\n",
       "      <td>0.881085</td>\n",
       "      <td>0.894118</td>\n",
       "      <td>00:00</td>\n",
       "    </tr>\n",
       "  </tbody>\n",
       "</table>"
      ],
      "text/plain": [
       "<IPython.core.display.HTML object>"
      ]
     },
     "metadata": {},
     "output_type": "display_data"
    }
   ],
   "source": [
    "learn.fit(5, 1e-3, wd=0.1)"
   ]
  },
  {
   "cell_type": "code",
   "execution_count": 19,
   "metadata": {},
   "outputs": [
    {
     "data": {
      "text/html": [],
      "text/plain": [
       "<IPython.core.display.HTML object>"
      ]
     },
     "metadata": {},
     "output_type": "display_data"
    },
    {
     "name": "stdout",
     "output_type": "stream",
     "text": [
      "LR Finder is complete, type {learner_name}.recorder.plot() to see the graph.\n"
     ]
    }
   ],
   "source": [
    "learn.lr_find()"
   ]
  },
  {
   "cell_type": "code",
   "execution_count": 20,
   "metadata": {},
   "outputs": [
    {
     "data": {
      "image/png": "[encoded data removed]",
      "text/plain": [
       "<Figure size 432x288 with 1 Axes>"
      ]
     },
     "metadata": {
      "needs_background": "light"
     },
     "output_type": "display_data"
    }
   ],
   "source": [
    "learn.recorder.plot()"
   ]
  },
  {
   "cell_type": "code",
   "execution_count": 21,
   "metadata": {},
   "outputs": [
    {
     "data": {
      "text/html": [
       "Total time: 00:02 <p><table border=\"1\" class=\"dataframe\">\n",
       "  <thead>\n",
       "    <tr style=\"text-align: left;\">\n",
       "      <th>epoch</th>\n",
       "      <th>train_loss</th>\n",
       "      <th>valid_loss</th>\n",
       "      <th>accuracy</th>\n",
       "      <th>time</th>\n",
       "    </tr>\n",
       "  </thead>\n",
       "  <tbody>\n",
       "    <tr>\n",
       "      <td>0</td>\n",
       "      <td>0.776772</td>\n",
       "      <td>0.651333</td>\n",
       "      <td>0.894118</td>\n",
       "      <td>00:00</td>\n",
       "    </tr>\n",
       "    <tr>\n",
       "      <td>1</td>\n",
       "      <td>0.643635</td>\n",
       "      <td>0.457925</td>\n",
       "      <td>0.894118</td>\n",
       "      <td>00:00</td>\n",
       "    </tr>\n",
       "    <tr>\n",
       "      <td>2</td>\n",
       "      <td>0.532589</td>\n",
       "      <td>0.387789</td>\n",
       "      <td>0.894118</td>\n",
       "      <td>00:00</td>\n",
       "    </tr>\n",
       "    <tr>\n",
       "      <td>3</td>\n",
       "      <td>0.433324</td>\n",
       "      <td>0.458072</td>\n",
       "      <td>0.894118</td>\n",
       "      <td>00:00</td>\n",
       "    </tr>\n",
       "    <tr>\n",
       "      <td>4</td>\n",
       "      <td>0.351960</td>\n",
       "      <td>0.664348</td>\n",
       "      <td>0.894118</td>\n",
       "      <td>00:00</td>\n",
       "    </tr>\n",
       "  </tbody>\n",
       "</table>"
      ],
      "text/plain": [
       "<IPython.core.display.HTML object>"
      ]
     },
     "metadata": {},
     "output_type": "display_data"
    }
   ],
   "source": [
    "learn.fit(5, slice(1e-2), wd=0.1)"
   ]
  },
  {
   "cell_type": "code",
   "execution_count": 22,
   "metadata": {},
   "outputs": [],
   "source": [
    "learn.unfreeze()"
   ]
  },
  {
   "cell_type": "code",
   "execution_count": 24,
   "metadata": {},
   "outputs": [
    {
     "data": {
      "text/html": [
       "Total time: 00:02 <p><table border=\"1\" class=\"dataframe\">\n",
       "  <thead>\n",
       "    <tr style=\"text-align: left;\">\n",
       "      <th>epoch</th>\n",
       "      <th>train_loss</th>\n",
       "      <th>valid_loss</th>\n",
       "      <th>accuracy</th>\n",
       "      <th>time</th>\n",
       "    </tr>\n",
       "  </thead>\n",
       "  <tbody>\n",
       "    <tr>\n",
       "      <td>0</td>\n",
       "      <td>0.117671</td>\n",
       "      <td>1.388820</td>\n",
       "      <td>0.870588</td>\n",
       "      <td>00:00</td>\n",
       "    </tr>\n",
       "    <tr>\n",
       "      <td>1</td>\n",
       "      <td>0.119553</td>\n",
       "      <td>1.160233</td>\n",
       "      <td>0.870588</td>\n",
       "      <td>00:00</td>\n",
       "    </tr>\n",
       "    <tr>\n",
       "      <td>2</td>\n",
       "      <td>0.114850</td>\n",
       "      <td>1.051228</td>\n",
       "      <td>0.870588</td>\n",
       "      <td>00:00</td>\n",
       "    </tr>\n",
       "    <tr>\n",
       "      <td>3</td>\n",
       "      <td>0.108503</td>\n",
       "      <td>1.158383</td>\n",
       "      <td>0.870588</td>\n",
       "      <td>00:00</td>\n",
       "    </tr>\n",
       "    <tr>\n",
       "      <td>4</td>\n",
       "      <td>0.099565</td>\n",
       "      <td>0.993155</td>\n",
       "      <td>0.870588</td>\n",
       "      <td>00:00</td>\n",
       "    </tr>\n",
       "  </tbody>\n",
       "</table>"
      ],
      "text/plain": [
       "<IPython.core.display.HTML object>"
      ]
     },
     "metadata": {},
     "output_type": "display_data"
    }
   ],
   "source": [
    "learn.fit(5, slice(1e-2))"
   ]
  },
  {
   "cell_type": "code",
   "execution_count": 25,
   "metadata": {},
   "outputs": [],
   "source": [
    "testrow = test[4]"
   ]
  },
  {
   "cell_type": "code",
   "execution_count": 26,
   "metadata": {},
   "outputs": [
    {
     "data": {
      "text/plain": [
       "(Category lower, tensor(1), tensor([1.6744e-11, 1.0000e+00, 0.0000e+00]))"
      ]
     },
     "execution_count": 26,
     "metadata": {},
     "output_type": "execute_result"
    }
   ],
   "source": [
    "learn.predict(testrow)"
   ]
  },
  {
   "cell_type": "markdown",
   "metadata": {},
   "source": [
    "## Random Forest"
   ]
  },
  {
   "cell_type": "code",
   "execution_count": 27,
   "metadata": {},
   "outputs": [],
   "source": [
    "from sklearn.ensemble import RandomForestClassifier"
   ]
  },
  {
   "cell_type": "code",
   "execution_count": 28,
   "metadata": {},
   "outputs": [],
   "source": [
    "model = RandomForestClassifier(n_estimators=100, \n",
    "                               bootstrap = True,\n",
    "                               max_features = 'sqrt')"
   ]
  },
  {
   "cell_type": "code",
   "execution_count": 29,
   "metadata": {},
   "outputs": [
    {
     "data": {
      "text/plain": [
       "RandomForestClassifier(bootstrap=True, class_weight=None, criterion='gini',\n",
       "            max_depth=None, max_features='sqrt', max_leaf_nodes=None,\n",
       "            min_impurity_decrease=0.0, min_impurity_split=None,\n",
       "            min_samples_leaf=1, min_samples_split=2,\n",
       "            min_weight_fraction_leaf=0.0, n_estimators=100, n_jobs=None,\n",
       "            oob_score=False, random_state=None, verbose=0,\n",
       "            warm_start=False)"
      ]
     },
     "execution_count": 29,
     "metadata": {},
     "output_type": "execute_result"
    }
   ],
   "source": [
    "model"
   ]
  },
  {
   "cell_type": "code",
   "execution_count": 30,
   "metadata": {},
   "outputs": [],
   "source": [
    "import numpy as np"
   ]
  },
  {
   "cell_type": "code",
   "execution_count": 31,
   "metadata": {},
   "outputs": [],
   "source": [
    "features = pd.read_csv(path/'new1992rf.csv')"
   ]
  },
  {
   "cell_type": "code",
   "execution_count": 32,
   "metadata": {},
   "outputs": [],
   "source": [
    "features2 = features.drop(['date'], axis=1)"
   ]
  },
  {
   "cell_type": "code",
   "execution_count": 33,
   "metadata": {},
   "outputs": [
    {
     "data": {
      "text/html": [
       "<div>\n",
       "<style scoped>\n",
       "    .dataframe tbody tr th:only-of-type {\n",
       "        vertical-align: middle;\n",
       "    }\n",
       "\n",
       "    .dataframe tbody tr th {\n",
       "        vertical-align: top;\n",
       "    }\n",
       "\n",
       "    .dataframe thead th {\n",
       "        text-align: right;\n",
       "    }\n",
       "</style>\n",
       "<table border=\"1\" class=\"dataframe\">\n",
       "  <thead>\n",
       "    <tr style=\"text-align: right;\">\n",
       "      <th></th>\n",
       "      <th>cpi</th>\n",
       "      <th>inflation</th>\n",
       "      <th>inflationexpectations</th>\n",
       "      <th>employment</th>\n",
       "      <th>unemployment</th>\n",
       "      <th>participationrate</th>\n",
       "      <th>employmenttopopulationrate</th>\n",
       "      <th>parttimeworkers</th>\n",
       "      <th>joblessclaims</th>\n",
       "      <th>industrialproduction</th>\n",
       "      <th>...</th>\n",
       "      <th>ch_electric</th>\n",
       "      <th>ch_consumerconf</th>\n",
       "      <th>jp_industrialprod</th>\n",
       "      <th>jp_neworders</th>\n",
       "      <th>jp_unemploymentrate</th>\n",
       "      <th>jp_manufacturing</th>\n",
       "      <th>jp_shortrates</th>\n",
       "      <th>jp_10yr</th>\n",
       "      <th>uspmi</th>\n",
       "      <th>decision</th>\n",
       "    </tr>\n",
       "  </thead>\n",
       "  <tbody>\n",
       "    <tr>\n",
       "      <th>0</th>\n",
       "      <td>138.3</td>\n",
       "      <td>68.667</td>\n",
       "      <td>2.7</td>\n",
       "      <td>108372</td>\n",
       "      <td>7.3</td>\n",
       "      <td>66.3</td>\n",
       "      <td>61.5</td>\n",
       "      <td>6593</td>\n",
       "      <td>439000</td>\n",
       "      <td>63.3374</td>\n",
       "      <td>...</td>\n",
       "      <td>57670</td>\n",
       "      <td>109.2</td>\n",
       "      <td>-2.5</td>\n",
       "      <td>1300.22</td>\n",
       "      <td>2.1</td>\n",
       "      <td>-3.8</td>\n",
       "      <td>4.50</td>\n",
       "      <td>5.449</td>\n",
       "      <td>47.3</td>\n",
       "      <td>lower</td>\n",
       "    </tr>\n",
       "    <tr>\n",
       "      <th>1</th>\n",
       "      <td>138.6</td>\n",
       "      <td>68.854</td>\n",
       "      <td>2.6</td>\n",
       "      <td>108313</td>\n",
       "      <td>7.4</td>\n",
       "      <td>66.2</td>\n",
       "      <td>61.3</td>\n",
       "      <td>6551</td>\n",
       "      <td>442200</td>\n",
       "      <td>63.7911</td>\n",
       "      <td>...</td>\n",
       "      <td>55150</td>\n",
       "      <td>109.7</td>\n",
       "      <td>-3.9</td>\n",
       "      <td>1301.16</td>\n",
       "      <td>2.0</td>\n",
       "      <td>-4.5</td>\n",
       "      <td>4.50</td>\n",
       "      <td>5.578</td>\n",
       "      <td>52.7</td>\n",
       "      <td>lower</td>\n",
       "    </tr>\n",
       "    <tr>\n",
       "      <th>2</th>\n",
       "      <td>139.1</td>\n",
       "      <td>69.026</td>\n",
       "      <td>2.6</td>\n",
       "      <td>108368</td>\n",
       "      <td>7.4</td>\n",
       "      <td>66.4</td>\n",
       "      <td>61.5</td>\n",
       "      <td>6531</td>\n",
       "      <td>429500</td>\n",
       "      <td>64.3212</td>\n",
       "      <td>...</td>\n",
       "      <td>61110</td>\n",
       "      <td>110.5</td>\n",
       "      <td>-4.4</td>\n",
       "      <td>1291.57</td>\n",
       "      <td>2.1</td>\n",
       "      <td>-5.4</td>\n",
       "      <td>4.50</td>\n",
       "      <td>5.531</td>\n",
       "      <td>54.6</td>\n",
       "      <td>lower</td>\n",
       "    </tr>\n",
       "    <tr>\n",
       "      <th>3</th>\n",
       "      <td>139.4</td>\n",
       "      <td>69.252</td>\n",
       "      <td>3.0</td>\n",
       "      <td>108523</td>\n",
       "      <td>7.4</td>\n",
       "      <td>66.5</td>\n",
       "      <td>61.6</td>\n",
       "      <td>6492</td>\n",
       "      <td>418250</td>\n",
       "      <td>64.8088</td>\n",
       "      <td>...</td>\n",
       "      <td>58730</td>\n",
       "      <td>112.0</td>\n",
       "      <td>-5.3</td>\n",
       "      <td>1323.94</td>\n",
       "      <td>2.1</td>\n",
       "      <td>-5.8</td>\n",
       "      <td>3.75</td>\n",
       "      <td>5.710</td>\n",
       "      <td>52.6</td>\n",
       "      <td>lower</td>\n",
       "    </tr>\n",
       "    <tr>\n",
       "      <th>4</th>\n",
       "      <td>139.7</td>\n",
       "      <td>69.350</td>\n",
       "      <td>2.9</td>\n",
       "      <td>108652</td>\n",
       "      <td>7.6</td>\n",
       "      <td>66.6</td>\n",
       "      <td>61.5</td>\n",
       "      <td>6550</td>\n",
       "      <td>417400</td>\n",
       "      <td>65.0202</td>\n",
       "      <td>...</td>\n",
       "      <td>62000</td>\n",
       "      <td>114.0</td>\n",
       "      <td>-5.8</td>\n",
       "      <td>1161.37</td>\n",
       "      <td>2.1</td>\n",
       "      <td>-9.1</td>\n",
       "      <td>3.75</td>\n",
       "      <td>5.739</td>\n",
       "      <td>55.7</td>\n",
       "      <td>hold</td>\n",
       "    </tr>\n",
       "  </tbody>\n",
       "</table>\n",
       "<p>5 rows × 65 columns</p>\n",
       "</div>"
      ],
      "text/plain": [
       "     cpi  inflation  inflationexpectations  employment  unemployment  \\\n",
       "0  138.3     68.667                    2.7      108372           7.3   \n",
       "1  138.6     68.854                    2.6      108313           7.4   \n",
       "2  139.1     69.026                    2.6      108368           7.4   \n",
       "3  139.4     69.252                    3.0      108523           7.4   \n",
       "4  139.7     69.350                    2.9      108652           7.6   \n",
       "\n",
       "   participationrate  employmenttopopulationrate  parttimeworkers  \\\n",
       "0               66.3                        61.5             6593   \n",
       "1               66.2                        61.3             6551   \n",
       "2               66.4                        61.5             6531   \n",
       "3               66.5                        61.6             6492   \n",
       "4               66.6                        61.5             6550   \n",
       "\n",
       "   joblessclaims  industrialproduction    ...     ch_electric  \\\n",
       "0         439000               63.3374    ...           57670   \n",
       "1         442200               63.7911    ...           55150   \n",
       "2         429500               64.3212    ...           61110   \n",
       "3         418250               64.8088    ...           58730   \n",
       "4         417400               65.0202    ...           62000   \n",
       "\n",
       "   ch_consumerconf  jp_industrialprod  jp_neworders  jp_unemploymentrate  \\\n",
       "0            109.2               -2.5       1300.22                  2.1   \n",
       "1            109.7               -3.9       1301.16                  2.0   \n",
       "2            110.5               -4.4       1291.57                  2.1   \n",
       "3            112.0               -5.3       1323.94                  2.1   \n",
       "4            114.0               -5.8       1161.37                  2.1   \n",
       "\n",
       "   jp_manufacturing  jp_shortrates  jp_10yr  uspmi  decision  \n",
       "0              -3.8           4.50    5.449   47.3     lower  \n",
       "1              -4.5           4.50    5.578   52.7     lower  \n",
       "2              -5.4           4.50    5.531   54.6     lower  \n",
       "3              -5.8           3.75    5.710   52.6     lower  \n",
       "4              -9.1           3.75    5.739   55.7      hold  \n",
       "\n",
       "[5 rows x 65 columns]"
      ]
     },
     "execution_count": 33,
     "metadata": {},
     "output_type": "execute_result"
    }
   ],
   "source": [
    "features2.head()"
   ]
  },
  {
   "cell_type": "code",
   "execution_count": 34,
   "metadata": {},
   "outputs": [],
   "source": [
    "labels = np.array(features2['decision'])"
   ]
  },
  {
   "cell_type": "code",
   "execution_count": 35,
   "metadata": {},
   "outputs": [],
   "source": [
    "features= features2.drop('decision', axis = 1)"
   ]
  },
  {
   "cell_type": "code",
   "execution_count": 36,
   "metadata": {},
   "outputs": [],
   "source": [
    "feature_list = list(features.columns)"
   ]
  },
  {
   "cell_type": "code",
   "execution_count": 37,
   "metadata": {},
   "outputs": [],
   "source": [
    "features = np.array(features)"
   ]
  },
  {
   "cell_type": "code",
   "execution_count": 38,
   "metadata": {},
   "outputs": [],
   "source": [
    "from sklearn.model_selection import train_test_split"
   ]
  },
  {
   "cell_type": "code",
   "execution_count": 39,
   "metadata": {},
   "outputs": [],
   "source": [
    "train_features, test_features, train_labels, test_labels = train_test_split(features, labels, test_size = 0.25, random_state = 42)"
   ]
  },
  {
   "cell_type": "code",
   "execution_count": 40,
   "metadata": {},
   "outputs": [
    {
     "name": "stdout",
     "output_type": "stream",
     "text": [
      "Training Features Shape: (247, 64)\n",
      "Training Labels Shape: (247,)\n",
      "Testing Features Shape: (83, 64)\n",
      "Testing Labels Shape: (83,)\n"
     ]
    }
   ],
   "source": [
    "print('Training Features Shape:', train_features.shape)\n",
    "print('Training Labels Shape:', train_labels.shape)\n",
    "print('Testing Features Shape:', test_features.shape)\n",
    "print('Testing Labels Shape:', test_labels.shape)"
   ]
  },
  {
   "cell_type": "code",
   "execution_count": 41,
   "metadata": {},
   "outputs": [
    {
     "data": {
      "text/plain": [
       "RandomForestClassifier(bootstrap=True, class_weight=None, criterion='gini',\n",
       "            max_depth=None, max_features='sqrt', max_leaf_nodes=None,\n",
       "            min_impurity_decrease=0.0, min_impurity_split=None,\n",
       "            min_samples_leaf=1, min_samples_split=2,\n",
       "            min_weight_fraction_leaf=0.0, n_estimators=100, n_jobs=None,\n",
       "            oob_score=False, random_state=None, verbose=0,\n",
       "            warm_start=False)"
      ]
     },
     "execution_count": 41,
     "metadata": {},
     "output_type": "execute_result"
    }
   ],
   "source": [
    "model.fit(train_features,train_labels)"
   ]
  },
  {
   "cell_type": "code",
   "execution_count": 42,
   "metadata": {},
   "outputs": [],
   "source": [
    "predictions = model.predict(test_features)"
   ]
  },
  {
   "cell_type": "code",
   "execution_count": 43,
   "metadata": {},
   "outputs": [
    {
     "data": {
      "text/plain": [
       "array(['hold', 'hold', 'hold', 'hold', ..., 'hold', 'hold', 'lower', 'hold'], dtype=object)"
      ]
     },
     "execution_count": 43,
     "metadata": {},
     "output_type": "execute_result"
    }
   ],
   "source": [
    "predictions"
   ]
  },
  {
   "cell_type": "code",
   "execution_count": 44,
   "metadata": {},
   "outputs": [
    {
     "data": {
      "text/plain": [
       "array(['lower', 'raise', 'hold', 'hold', ..., 'hold', 'hold', 'lower', 'hold'], dtype=object)"
      ]
     },
     "execution_count": 44,
     "metadata": {},
     "output_type": "execute_result"
    }
   ],
   "source": [
    "test_labels"
   ]
  },
  {
   "cell_type": "code",
   "execution_count": 45,
   "metadata": {},
   "outputs": [
    {
     "data": {
      "text/plain": [
       "(83,)"
      ]
     },
     "execution_count": 45,
     "metadata": {},
     "output_type": "execute_result"
    }
   ],
   "source": [
    "predictions.shape"
   ]
  },
  {
   "cell_type": "code",
   "execution_count": 46,
   "metadata": {},
   "outputs": [
    {
     "data": {
      "text/plain": [
       "(83,)"
      ]
     },
     "execution_count": 46,
     "metadata": {},
     "output_type": "execute_result"
    }
   ],
   "source": [
    "test_labels.shape"
   ]
  },
  {
   "cell_type": "code",
   "execution_count": 47,
   "metadata": {},
   "outputs": [],
   "source": [
    "from sklearn.metrics import accuracy_score"
   ]
  },
  {
   "cell_type": "code",
   "execution_count": 48,
   "metadata": {},
   "outputs": [],
   "source": [
    "acc = accuracy_score(test_labels, predictions)"
   ]
  },
  {
   "cell_type": "code",
   "execution_count": 49,
   "metadata": {},
   "outputs": [
    {
     "data": {
      "text/plain": [
       "0.8072289156626506"
      ]
     },
     "execution_count": 49,
     "metadata": {},
     "output_type": "execute_result"
    }
   ],
   "source": [
    "acc"
   ]
  },
  {
   "cell_type": "code",
   "execution_count": null,
   "metadata": {},
   "outputs": [],
   "source": []
  }
 ],
 "metadata": {
  "kernelspec": {
   "display_name": "Python 3",
   "language": "python",
   "name": "python3"
  },
  "language_info": {
   "codemirror_mode": {
    "name": "ipython",
    "version": 3
   },
   "file_extension": ".py",
   "mimetype": "text/x-python",
   "name": "python",
   "nbconvert_exporter": "python",
   "pygments_lexer": "ipython3",
   "version": "3.7.1"
  }
 },
 "nbformat": 4,
 "nbformat_minor": 2
}
