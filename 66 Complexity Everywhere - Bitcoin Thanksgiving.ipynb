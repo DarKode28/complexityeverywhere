{
 "cells": [
  {
   "cell_type": "code",
   "execution_count": 1,
   "metadata": {
    "nbpresent": {
     "id": "ad429c4a-8bb8-4bd3-b7bc-939c76859450"
    }
   },
   "outputs": [],
   "source": [
    "%reload_ext autoreload\n",
    "%autoreload\n",
    "%matplotlib inline"
   ]
  },
  {
   "cell_type": "code",
   "execution_count": 2,
   "metadata": {
    "nbpresent": {
     "id": "dbf59414-ea66-4ea2-b1ed-140998458812"
    }
   },
   "outputs": [],
   "source": [
    "from fastai.tabular import *"
   ]
  },
  {
   "cell_type": "markdown",
   "metadata": {},
   "source": [
    "### RF Regression"
   ]
  },
  {
   "cell_type": "code",
   "execution_count": 3,
   "metadata": {},
   "outputs": [],
   "source": [
    "from sklearn.ensemble import RandomForestRegressor\n",
    "from sklearn.model_selection import train_test_split\n",
    "from sklearn.model_selection import cross_val_score, GridSearchCV\n",
    "from sklearn.preprocessing import MinMaxScaler"
   ]
  },
  {
   "cell_type": "markdown",
   "metadata": {},
   "source": [
    "#### 3 Month Price"
   ]
  },
  {
   "cell_type": "code",
   "execution_count": 11,
   "metadata": {},
   "outputs": [],
   "source": [
    "path = Path('')"
   ]
  },
  {
   "cell_type": "code",
   "execution_count": 12,
   "metadata": {},
   "outputs": [],
   "source": [
    "dfr = pd.read_csv(path/'Bitcoin - rf3.csv')"
   ]
  },
  {
   "cell_type": "code",
   "execution_count": 13,
   "metadata": {},
   "outputs": [
    {
     "data": {
      "text/html": [
       "<div>\n",
       "<style scoped>\n",
       "    .dataframe tbody tr th:only-of-type {\n",
       "        vertical-align: middle;\n",
       "    }\n",
       "\n",
       "    .dataframe tbody tr th {\n",
       "        vertical-align: top;\n",
       "    }\n",
       "\n",
       "    .dataframe thead th {\n",
       "        text-align: right;\n",
       "    }\n",
       "</style>\n",
       "<table border=\"1\" class=\"dataframe\">\n",
       "  <thead>\n",
       "    <tr style=\"text-align: right;\">\n",
       "      <th></th>\n",
       "      <th>data</th>\n",
       "      <th>hash_rate</th>\n",
       "      <th>wallets</th>\n",
       "      <th>wallet_trans_perday</th>\n",
       "      <th>difficulty</th>\n",
       "      <th>wallet_trans_volume</th>\n",
       "      <th>avg_block_size</th>\n",
       "      <th>api_blockchain_size</th>\n",
       "      <th>miners_revenue</th>\n",
       "      <th>cost_per_trans</th>\n",
       "      <th>...</th>\n",
       "      <th>trans_per_block</th>\n",
       "      <th>unique_addresses_used</th>\n",
       "      <th>trans_excl_popular</th>\n",
       "      <th>transactions</th>\n",
       "      <th>num_transactions</th>\n",
       "      <th>trans_fees_usd</th>\n",
       "      <th>trans_fees</th>\n",
       "      <th>market_cap</th>\n",
       "      <th>total_bitcoins</th>\n",
       "      <th>price</th>\n",
       "    </tr>\n",
       "  </thead>\n",
       "  <tbody>\n",
       "    <tr>\n",
       "      <th>0</th>\n",
       "      <td>2019-08-23</td>\n",
       "      <td>71377577.76</td>\n",
       "      <td>41414084</td>\n",
       "      <td>78222</td>\n",
       "      <td>1.018349e+13</td>\n",
       "      <td>9824.161496</td>\n",
       "      <td>1.241886</td>\n",
       "      <td>236316.0797</td>\n",
       "      <td>18220839.28</td>\n",
       "      <td>56.506962</td>\n",
       "      <td>...</td>\n",
       "      <td>2286.900709</td>\n",
       "      <td>609066</td>\n",
       "      <td>307053</td>\n",
       "      <td>447252821</td>\n",
       "      <td>322453</td>\n",
       "      <td>531089.8243</td>\n",
       "      <td>53.998799</td>\n",
       "      <td>1.794627e+11</td>\n",
       "      <td>17891262.5</td>\n",
       "      <td>7874.609167</td>\n",
       "    </tr>\n",
       "    <tr>\n",
       "      <th>1</th>\n",
       "      <td>2019-08-22</td>\n",
       "      <td>68846457.98</td>\n",
       "      <td>41378994</td>\n",
       "      <td>69410</td>\n",
       "      <td>1.018349e+13</td>\n",
       "      <td>9888.849592</td>\n",
       "      <td>1.188414</td>\n",
       "      <td>236140.9738</td>\n",
       "      <td>17818549.91</td>\n",
       "      <td>57.701063</td>\n",
       "      <td>...</td>\n",
       "      <td>2270.647059</td>\n",
       "      <td>599151</td>\n",
       "      <td>292684</td>\n",
       "      <td>446930368</td>\n",
       "      <td>308808</td>\n",
       "      <td>501755.4065</td>\n",
       "      <td>52.225873</td>\n",
       "      <td>1.819200e+11</td>\n",
       "      <td>17889500.0</td>\n",
       "      <td>8105.482500</td>\n",
       "    </tr>\n",
       "    <tr>\n",
       "      <th>2</th>\n",
       "      <td>2019-08-21</td>\n",
       "      <td>77452265.23</td>\n",
       "      <td>41350046</td>\n",
       "      <td>74982</td>\n",
       "      <td>1.018349e+13</td>\n",
       "      <td>11933.755210</td>\n",
       "      <td>1.077213</td>\n",
       "      <td>235979.3494</td>\n",
       "      <td>21054451.37</td>\n",
       "      <td>63.168913</td>\n",
       "      <td>...</td>\n",
       "      <td>2178.457516</td>\n",
       "      <td>558998</td>\n",
       "      <td>316466</td>\n",
       "      <td>446621560</td>\n",
       "      <td>333304</td>\n",
       "      <td>441939.2522</td>\n",
       "      <td>46.690090</td>\n",
       "      <td>1.922314e+11</td>\n",
       "      <td>17887800.0</td>\n",
       "      <td>8124.803333</td>\n",
       "    </tr>\n",
       "    <tr>\n",
       "      <th>3</th>\n",
       "      <td>2019-08-20</td>\n",
       "      <td>82514504.79</td>\n",
       "      <td>41327953</td>\n",
       "      <td>71864</td>\n",
       "      <td>1.018349e+13</td>\n",
       "      <td>7975.665038</td>\n",
       "      <td>0.938906</td>\n",
       "      <td>235814.5358</td>\n",
       "      <td>22051309.39</td>\n",
       "      <td>66.726508</td>\n",
       "      <td>...</td>\n",
       "      <td>2027.441718</td>\n",
       "      <td>517544</td>\n",
       "      <td>311978</td>\n",
       "      <td>446288256</td>\n",
       "      <td>330473</td>\n",
       "      <td>300332.6981</td>\n",
       "      <td>41.669480</td>\n",
       "      <td>1.896946e+11</td>\n",
       "      <td>17885887.5</td>\n",
       "      <td>8388.837500</td>\n",
       "    </tr>\n",
       "    <tr>\n",
       "      <th>4</th>\n",
       "      <td>2019-08-19</td>\n",
       "      <td>63784218.43</td>\n",
       "      <td>41310517</td>\n",
       "      <td>47844</td>\n",
       "      <td>1.001680e+13</td>\n",
       "      <td>3180.414384</td>\n",
       "      <td>0.949509</td>\n",
       "      <td>235661.4942</td>\n",
       "      <td>16515142.76</td>\n",
       "      <td>59.758445</td>\n",
       "      <td>...</td>\n",
       "      <td>2193.373016</td>\n",
       "      <td>407212</td>\n",
       "      <td>262209</td>\n",
       "      <td>445957783</td>\n",
       "      <td>276365</td>\n",
       "      <td>364170.2734</td>\n",
       "      <td>29.172343</td>\n",
       "      <td>1.841163e+11</td>\n",
       "      <td>17883850.0</td>\n",
       "      <td>8515.065000</td>\n",
       "    </tr>\n",
       "  </tbody>\n",
       "</table>\n",
       "<p>5 rows × 22 columns</p>\n",
       "</div>"
      ],
      "text/plain": [
       "         data    hash_rate   wallets  wallet_trans_perday    difficulty  \\\n",
       "0  2019-08-23  71377577.76  41414084                78222  1.018349e+13   \n",
       "1  2019-08-22  68846457.98  41378994                69410  1.018349e+13   \n",
       "2  2019-08-21  77452265.23  41350046                74982  1.018349e+13   \n",
       "3  2019-08-20  82514504.79  41327953                71864  1.018349e+13   \n",
       "4  2019-08-19  63784218.43  41310517                47844  1.001680e+13   \n",
       "\n",
       "   wallet_trans_volume  avg_block_size  api_blockchain_size  miners_revenue  \\\n",
       "0          9824.161496        1.241886          236316.0797     18220839.28   \n",
       "1          9888.849592        1.188414          236140.9738     17818549.91   \n",
       "2         11933.755210        1.077213          235979.3494     21054451.37   \n",
       "3          7975.665038        0.938906          235814.5358     22051309.39   \n",
       "4          3180.414384        0.949509          235661.4942     16515142.76   \n",
       "\n",
       "   cost_per_trans  ...  trans_per_block  unique_addresses_used  \\\n",
       "0       56.506962  ...      2286.900709                 609066   \n",
       "1       57.701063  ...      2270.647059                 599151   \n",
       "2       63.168913  ...      2178.457516                 558998   \n",
       "3       66.726508  ...      2027.441718                 517544   \n",
       "4       59.758445  ...      2193.373016                 407212   \n",
       "\n",
       "   trans_excl_popular  transactions  num_transactions  trans_fees_usd  \\\n",
       "0              307053     447252821            322453     531089.8243   \n",
       "1              292684     446930368            308808     501755.4065   \n",
       "2              316466     446621560            333304     441939.2522   \n",
       "3              311978     446288256            330473     300332.6981   \n",
       "4              262209     445957783            276365     364170.2734   \n",
       "\n",
       "   trans_fees    market_cap  total_bitcoins        price  \n",
       "0   53.998799  1.794627e+11      17891262.5  7874.609167  \n",
       "1   52.225873  1.819200e+11      17889500.0  8105.482500  \n",
       "2   46.690090  1.922314e+11      17887800.0  8124.803333  \n",
       "3   41.669480  1.896946e+11      17885887.5  8388.837500  \n",
       "4   29.172343  1.841163e+11      17883850.0  8515.065000  \n",
       "\n",
       "[5 rows x 22 columns]"
      ]
     },
     "execution_count": 13,
     "metadata": {},
     "output_type": "execute_result"
    }
   ],
   "source": [
    "dfr.head()"
   ]
  },
  {
   "cell_type": "code",
   "execution_count": 14,
   "metadata": {},
   "outputs": [],
   "source": [
    "labels = np.array(dfr['price'])"
   ]
  },
  {
   "cell_type": "code",
   "execution_count": 15,
   "metadata": {},
   "outputs": [],
   "source": [
    "features= dfr.drop(['price','data'], axis = 1)"
   ]
  },
  {
   "cell_type": "code",
   "execution_count": 16,
   "metadata": {},
   "outputs": [
    {
     "data": {
      "text/html": [
       "<div>\n",
       "<style scoped>\n",
       "    .dataframe tbody tr th:only-of-type {\n",
       "        vertical-align: middle;\n",
       "    }\n",
       "\n",
       "    .dataframe tbody tr th {\n",
       "        vertical-align: top;\n",
       "    }\n",
       "\n",
       "    .dataframe thead th {\n",
       "        text-align: right;\n",
       "    }\n",
       "</style>\n",
       "<table border=\"1\" class=\"dataframe\">\n",
       "  <thead>\n",
       "    <tr style=\"text-align: right;\">\n",
       "      <th></th>\n",
       "      <th>hash_rate</th>\n",
       "      <th>wallets</th>\n",
       "      <th>wallet_trans_perday</th>\n",
       "      <th>difficulty</th>\n",
       "      <th>wallet_trans_volume</th>\n",
       "      <th>avg_block_size</th>\n",
       "      <th>api_blockchain_size</th>\n",
       "      <th>miners_revenue</th>\n",
       "      <th>cost_per_trans</th>\n",
       "      <th>us_exchange_traded_vol</th>\n",
       "      <th>total_output_vol</th>\n",
       "      <th>trans_per_block</th>\n",
       "      <th>unique_addresses_used</th>\n",
       "      <th>trans_excl_popular</th>\n",
       "      <th>transactions</th>\n",
       "      <th>num_transactions</th>\n",
       "      <th>trans_fees_usd</th>\n",
       "      <th>trans_fees</th>\n",
       "      <th>market_cap</th>\n",
       "      <th>total_bitcoins</th>\n",
       "    </tr>\n",
       "  </thead>\n",
       "  <tbody>\n",
       "    <tr>\n",
       "      <th>0</th>\n",
       "      <td>71377577.76</td>\n",
       "      <td>41414084</td>\n",
       "      <td>78222</td>\n",
       "      <td>1.018349e+13</td>\n",
       "      <td>9824.161496</td>\n",
       "      <td>1.241886</td>\n",
       "      <td>236316.0797</td>\n",
       "      <td>18220839.28</td>\n",
       "      <td>56.506962</td>\n",
       "      <td>1.989381e+08</td>\n",
       "      <td>1.172022e+07</td>\n",
       "      <td>2286.900709</td>\n",
       "      <td>609066</td>\n",
       "      <td>307053</td>\n",
       "      <td>447252821</td>\n",
       "      <td>322453</td>\n",
       "      <td>531089.8243</td>\n",
       "      <td>53.998799</td>\n",
       "      <td>1.794627e+11</td>\n",
       "      <td>17891262.5</td>\n",
       "    </tr>\n",
       "    <tr>\n",
       "      <th>1</th>\n",
       "      <td>68846457.98</td>\n",
       "      <td>41378994</td>\n",
       "      <td>69410</td>\n",
       "      <td>1.018349e+13</td>\n",
       "      <td>9888.849592</td>\n",
       "      <td>1.188414</td>\n",
       "      <td>236140.9738</td>\n",
       "      <td>17818549.91</td>\n",
       "      <td>57.701063</td>\n",
       "      <td>1.884298e+08</td>\n",
       "      <td>2.452867e+07</td>\n",
       "      <td>2270.647059</td>\n",
       "      <td>599151</td>\n",
       "      <td>292684</td>\n",
       "      <td>446930368</td>\n",
       "      <td>308808</td>\n",
       "      <td>501755.4065</td>\n",
       "      <td>52.225873</td>\n",
       "      <td>1.819200e+11</td>\n",
       "      <td>17889500.0</td>\n",
       "    </tr>\n",
       "    <tr>\n",
       "      <th>2</th>\n",
       "      <td>77452265.23</td>\n",
       "      <td>41350046</td>\n",
       "      <td>74982</td>\n",
       "      <td>1.018349e+13</td>\n",
       "      <td>11933.755210</td>\n",
       "      <td>1.077213</td>\n",
       "      <td>235979.3494</td>\n",
       "      <td>21054451.37</td>\n",
       "      <td>63.168913</td>\n",
       "      <td>1.575685e+08</td>\n",
       "      <td>9.748625e+06</td>\n",
       "      <td>2178.457516</td>\n",
       "      <td>558998</td>\n",
       "      <td>316466</td>\n",
       "      <td>446621560</td>\n",
       "      <td>333304</td>\n",
       "      <td>441939.2522</td>\n",
       "      <td>46.690090</td>\n",
       "      <td>1.922314e+11</td>\n",
       "      <td>17887800.0</td>\n",
       "    </tr>\n",
       "    <tr>\n",
       "      <th>3</th>\n",
       "      <td>82514504.79</td>\n",
       "      <td>41327953</td>\n",
       "      <td>71864</td>\n",
       "      <td>1.018349e+13</td>\n",
       "      <td>7975.665038</td>\n",
       "      <td>0.938906</td>\n",
       "      <td>235814.5358</td>\n",
       "      <td>22051309.39</td>\n",
       "      <td>66.726508</td>\n",
       "      <td>1.139026e+08</td>\n",
       "      <td>8.731949e+05</td>\n",
       "      <td>2027.441718</td>\n",
       "      <td>517544</td>\n",
       "      <td>311978</td>\n",
       "      <td>446288256</td>\n",
       "      <td>330473</td>\n",
       "      <td>300332.6981</td>\n",
       "      <td>41.669480</td>\n",
       "      <td>1.896946e+11</td>\n",
       "      <td>17885887.5</td>\n",
       "    </tr>\n",
       "    <tr>\n",
       "      <th>4</th>\n",
       "      <td>63784218.43</td>\n",
       "      <td>41310517</td>\n",
       "      <td>47844</td>\n",
       "      <td>1.001680e+13</td>\n",
       "      <td>3180.414384</td>\n",
       "      <td>0.949509</td>\n",
       "      <td>235661.4942</td>\n",
       "      <td>16515142.76</td>\n",
       "      <td>59.758445</td>\n",
       "      <td>8.916656e+07</td>\n",
       "      <td>9.661832e+05</td>\n",
       "      <td>2193.373016</td>\n",
       "      <td>407212</td>\n",
       "      <td>262209</td>\n",
       "      <td>445957783</td>\n",
       "      <td>276365</td>\n",
       "      <td>364170.2734</td>\n",
       "      <td>29.172343</td>\n",
       "      <td>1.841163e+11</td>\n",
       "      <td>17883850.0</td>\n",
       "    </tr>\n",
       "  </tbody>\n",
       "</table>\n",
       "</div>"
      ],
      "text/plain": [
       "     hash_rate   wallets  wallet_trans_perday    difficulty  \\\n",
       "0  71377577.76  41414084                78222  1.018349e+13   \n",
       "1  68846457.98  41378994                69410  1.018349e+13   \n",
       "2  77452265.23  41350046                74982  1.018349e+13   \n",
       "3  82514504.79  41327953                71864  1.018349e+13   \n",
       "4  63784218.43  41310517                47844  1.001680e+13   \n",
       "\n",
       "   wallet_trans_volume  avg_block_size  api_blockchain_size  miners_revenue  \\\n",
       "0          9824.161496        1.241886          236316.0797     18220839.28   \n",
       "1          9888.849592        1.188414          236140.9738     17818549.91   \n",
       "2         11933.755210        1.077213          235979.3494     21054451.37   \n",
       "3          7975.665038        0.938906          235814.5358     22051309.39   \n",
       "4          3180.414384        0.949509          235661.4942     16515142.76   \n",
       "\n",
       "   cost_per_trans  us_exchange_traded_vol  total_output_vol  trans_per_block  \\\n",
       "0       56.506962            1.989381e+08      1.172022e+07      2286.900709   \n",
       "1       57.701063            1.884298e+08      2.452867e+07      2270.647059   \n",
       "2       63.168913            1.575685e+08      9.748625e+06      2178.457516   \n",
       "3       66.726508            1.139026e+08      8.731949e+05      2027.441718   \n",
       "4       59.758445            8.916656e+07      9.661832e+05      2193.373016   \n",
       "\n",
       "   unique_addresses_used  trans_excl_popular  transactions  num_transactions  \\\n",
       "0                 609066              307053     447252821            322453   \n",
       "1                 599151              292684     446930368            308808   \n",
       "2                 558998              316466     446621560            333304   \n",
       "3                 517544              311978     446288256            330473   \n",
       "4                 407212              262209     445957783            276365   \n",
       "\n",
       "   trans_fees_usd  trans_fees    market_cap  total_bitcoins  \n",
       "0     531089.8243   53.998799  1.794627e+11      17891262.5  \n",
       "1     501755.4065   52.225873  1.819200e+11      17889500.0  \n",
       "2     441939.2522   46.690090  1.922314e+11      17887800.0  \n",
       "3     300332.6981   41.669480  1.896946e+11      17885887.5  \n",
       "4     364170.2734   29.172343  1.841163e+11      17883850.0  "
      ]
     },
     "execution_count": 16,
     "metadata": {},
     "output_type": "execute_result"
    }
   ],
   "source": [
    "features.head()"
   ]
  },
  {
   "cell_type": "code",
   "execution_count": 17,
   "metadata": {},
   "outputs": [],
   "source": [
    "feature_list = list(features.columns)"
   ]
  },
  {
   "cell_type": "code",
   "execution_count": 18,
   "metadata": {},
   "outputs": [],
   "source": [
    "features = np.array(features)"
   ]
  },
  {
   "cell_type": "code",
   "execution_count": 19,
   "metadata": {},
   "outputs": [],
   "source": [
    "train_features, test_features, train_labels, test_labels = train_test_split(features, labels, test_size = 0.25, random_state = 42)"
   ]
  },
  {
   "cell_type": "code",
   "execution_count": 20,
   "metadata": {},
   "outputs": [
    {
     "name": "stdout",
     "output_type": "stream",
     "text": [
      "Training Features Shape: (2470, 20)\n",
      "Training Labels Shape: (2470,)\n",
      "Testing Features Shape: (824, 20)\n",
      "Testing Labels Shape: (824,)\n"
     ]
    }
   ],
   "source": [
    "print('Training Features Shape:', train_features.shape)\n",
    "print('Training Labels Shape:', train_labels.shape)\n",
    "print('Testing Features Shape:', test_features.shape)\n",
    "print('Testing Labels Shape:', test_labels.shape)"
   ]
  },
  {
   "cell_type": "code",
   "execution_count": 21,
   "metadata": {},
   "outputs": [
    {
     "name": "stdout",
     "output_type": "stream",
     "text": [
      "Mean Absolute Error: 110.57 degrees.\n",
      "Accuracy: 95.72 %.\n"
     ]
    }
   ],
   "source": [
    "rf = RandomForestRegressor(max_depth=110,n_estimators = 1000, max_features='sqrt', random_state = 42)\n",
    "rf.fit(train_features, train_labels);\n",
    "predictions = rf.predict(test_features)\n",
    "errors = abs(predictions - test_labels)\n",
    "print('Mean Absolute Error:', round(np.mean(errors), 2), 'degrees.')\n",
    "mape = 100 * (errors / test_labels)\n",
    "# Calculate and display accuracy\n",
    "accuracy = 100 - np.mean(mape)\n",
    "print('Accuracy:', round(accuracy, 2), '%.')"
   ]
  },
  {
   "cell_type": "code",
   "execution_count": 22,
   "metadata": {},
   "outputs": [
    {
     "data": {
      "text/html": [
       "<div>\n",
       "<style scoped>\n",
       "    .dataframe tbody tr th:only-of-type {\n",
       "        vertical-align: middle;\n",
       "    }\n",
       "\n",
       "    .dataframe tbody tr th {\n",
       "        vertical-align: top;\n",
       "    }\n",
       "\n",
       "    .dataframe thead th {\n",
       "        text-align: right;\n",
       "    }\n",
       "</style>\n",
       "<table border=\"1\" class=\"dataframe\">\n",
       "  <thead>\n",
       "    <tr style=\"text-align: right;\">\n",
       "      <th></th>\n",
       "      <th>0</th>\n",
       "    </tr>\n",
       "  </thead>\n",
       "  <tbody>\n",
       "    <tr>\n",
       "      <th>0</th>\n",
       "      <td>8916.792754</td>\n",
       "    </tr>\n",
       "    <tr>\n",
       "      <th>1</th>\n",
       "      <td>8862.676397</td>\n",
       "    </tr>\n",
       "    <tr>\n",
       "      <th>2</th>\n",
       "      <td>8833.934321</td>\n",
       "    </tr>\n",
       "    <tr>\n",
       "      <th>3</th>\n",
       "      <td>8905.974285</td>\n",
       "    </tr>\n",
       "    <tr>\n",
       "      <th>4</th>\n",
       "      <td>8784.920972</td>\n",
       "    </tr>\n",
       "    <tr>\n",
       "      <th>5</th>\n",
       "      <td>8753.041551</td>\n",
       "    </tr>\n",
       "    <tr>\n",
       "      <th>6</th>\n",
       "      <td>8768.038558</td>\n",
       "    </tr>\n",
       "    <tr>\n",
       "      <th>7</th>\n",
       "      <td>8879.212095</td>\n",
       "    </tr>\n",
       "    <tr>\n",
       "      <th>8</th>\n",
       "      <td>9010.370043</td>\n",
       "    </tr>\n",
       "    <tr>\n",
       "      <th>9</th>\n",
       "      <td>8790.488896</td>\n",
       "    </tr>\n",
       "  </tbody>\n",
       "</table>\n",
       "</div>"
      ],
      "text/plain": [
       "             0\n",
       "0  8916.792754\n",
       "1  8862.676397\n",
       "2  8833.934321\n",
       "3  8905.974285\n",
       "4  8784.920972\n",
       "5  8753.041551\n",
       "6  8768.038558\n",
       "7  8879.212095\n",
       "8  9010.370043\n",
       "9  8790.488896"
      ]
     },
     "execution_count": 22,
     "metadata": {},
     "output_type": "execute_result"
    }
   ],
   "source": [
    "#Test\n",
    "dft = pd.read_csv(path/'Bitcoin - rftest.csv')\n",
    "dft= dft.drop(['data','price'], axis = 1)\n",
    "predictions = pd.DataFrame(rf.predict(dft))\n",
    "predictions"
   ]
  },
  {
   "cell_type": "markdown",
   "metadata": {},
   "source": [
    "#### 6 Month Price"
   ]
  },
  {
   "cell_type": "code",
   "execution_count": 23,
   "metadata": {},
   "outputs": [
    {
     "name": "stdout",
     "output_type": "stream",
     "text": [
      "Training Features Shape: (2403, 20)\n",
      "Training Labels Shape: (2403,)\n",
      "Testing Features Shape: (801, 20)\n",
      "Testing Labels Shape: (801,)\n"
     ]
    }
   ],
   "source": [
    "dfr6 = pd.read_csv(path/'Bitcoin - rf6.csv')\n",
    "labels = np.array(dfr6['price'])\n",
    "features= dfr6.drop(['price','data'], axis = 1)\n",
    "feature_list = list(features.columns)\n",
    "features = np.array(features)\n",
    "train_features, test_features, train_labels, test_labels = train_test_split(features, labels, test_size = 0.25, random_state = 42)\n",
    "print('Training Features Shape:', train_features.shape)\n",
    "print('Training Labels Shape:', train_labels.shape)\n",
    "print('Testing Features Shape:', test_features.shape)\n",
    "print('Testing Labels Shape:', test_labels.shape)"
   ]
  },
  {
   "cell_type": "code",
   "execution_count": 24,
   "metadata": {},
   "outputs": [
    {
     "name": "stdout",
     "output_type": "stream",
     "text": [
      "Mean Absolute Error: 103.12 degrees.\n",
      "Accuracy: 95.17 %.\n"
     ]
    }
   ],
   "source": [
    "rf6 = RandomForestRegressor(max_depth=110,n_estimators = 1000, max_features='sqrt', random_state = 42)\n",
    "rf6.fit(train_features, train_labels);\n",
    "predictions = rf6.predict(test_features)\n",
    "errors = abs(predictions - test_labels)\n",
    "print('Mean Absolute Error:', round(np.mean(errors), 2), 'degrees.')\n",
    "mape = 100 * (errors / test_labels)\n",
    "# Calculate and display accuracy\n",
    "accuracy = 100 - np.mean(mape)\n",
    "print('Accuracy:', round(accuracy, 2), '%.')"
   ]
  },
  {
   "cell_type": "code",
   "execution_count": 25,
   "metadata": {},
   "outputs": [
    {
     "data": {
      "text/html": [
       "<div>\n",
       "<style scoped>\n",
       "    .dataframe tbody tr th:only-of-type {\n",
       "        vertical-align: middle;\n",
       "    }\n",
       "\n",
       "    .dataframe tbody tr th {\n",
       "        vertical-align: top;\n",
       "    }\n",
       "\n",
       "    .dataframe thead th {\n",
       "        text-align: right;\n",
       "    }\n",
       "</style>\n",
       "<table border=\"1\" class=\"dataframe\">\n",
       "  <thead>\n",
       "    <tr style=\"text-align: right;\">\n",
       "      <th></th>\n",
       "      <th>0</th>\n",
       "    </tr>\n",
       "  </thead>\n",
       "  <tbody>\n",
       "    <tr>\n",
       "      <th>0</th>\n",
       "      <td>8049.562604</td>\n",
       "    </tr>\n",
       "    <tr>\n",
       "      <th>1</th>\n",
       "      <td>7984.819137</td>\n",
       "    </tr>\n",
       "    <tr>\n",
       "      <th>2</th>\n",
       "      <td>7969.466942</td>\n",
       "    </tr>\n",
       "    <tr>\n",
       "      <th>3</th>\n",
       "      <td>7764.855264</td>\n",
       "    </tr>\n",
       "    <tr>\n",
       "      <th>4</th>\n",
       "      <td>7378.011741</td>\n",
       "    </tr>\n",
       "    <tr>\n",
       "      <th>5</th>\n",
       "      <td>7535.048116</td>\n",
       "    </tr>\n",
       "    <tr>\n",
       "      <th>6</th>\n",
       "      <td>7925.110121</td>\n",
       "    </tr>\n",
       "    <tr>\n",
       "      <th>7</th>\n",
       "      <td>7856.120368</td>\n",
       "    </tr>\n",
       "    <tr>\n",
       "      <th>8</th>\n",
       "      <td>8027.455393</td>\n",
       "    </tr>\n",
       "    <tr>\n",
       "      <th>9</th>\n",
       "      <td>7806.194519</td>\n",
       "    </tr>\n",
       "  </tbody>\n",
       "</table>\n",
       "</div>"
      ],
      "text/plain": [
       "             0\n",
       "0  8049.562604\n",
       "1  7984.819137\n",
       "2  7969.466942\n",
       "3  7764.855264\n",
       "4  7378.011741\n",
       "5  7535.048116\n",
       "6  7925.110121\n",
       "7  7856.120368\n",
       "8  8027.455393\n",
       "9  7806.194519"
      ]
     },
     "execution_count": 25,
     "metadata": {},
     "output_type": "execute_result"
    }
   ],
   "source": [
    "#Test 6 Month\n",
    "dft = pd.read_csv(path/'Bitcoin - rftest.csv')\n",
    "dft= dft.drop(['data','price'], axis = 1)\n",
    "predictions = pd.DataFrame(rf6.predict(dft))\n",
    "predictions"
   ]
  },
  {
   "cell_type": "markdown",
   "metadata": {},
   "source": [
    "#### 9 Month Price"
   ]
  },
  {
   "cell_type": "code",
   "execution_count": 26,
   "metadata": {},
   "outputs": [
    {
     "name": "stdout",
     "output_type": "stream",
     "text": [
      "Training Features Shape: (2336, 20)\n",
      "Training Labels Shape: (2336,)\n",
      "Testing Features Shape: (779, 20)\n",
      "Testing Labels Shape: (779,)\n"
     ]
    }
   ],
   "source": [
    "dfr9 = pd.read_csv(path/'Bitcoin - rf9.csv')\n",
    "labels = np.array(dfr9['price'])\n",
    "features= dfr9.drop(['price','data'], axis = 1)\n",
    "feature_list = list(features.columns)\n",
    "features = np.array(features)\n",
    "train_features, test_features, train_labels, test_labels = train_test_split(features, labels, test_size = 0.25, random_state = 42)\n",
    "print('Training Features Shape:', train_features.shape)\n",
    "print('Training Labels Shape:', train_labels.shape)\n",
    "print('Testing Features Shape:', test_features.shape)\n",
    "print('Testing Labels Shape:', test_labels.shape)"
   ]
  },
  {
   "cell_type": "code",
   "execution_count": 27,
   "metadata": {},
   "outputs": [
    {
     "name": "stdout",
     "output_type": "stream",
     "text": [
      "Mean Absolute Error: 108.78 degrees.\n",
      "Accuracy: 96.02 %.\n"
     ]
    }
   ],
   "source": [
    "rf9 = RandomForestRegressor(max_depth=110,n_estimators = 1000, max_features='sqrt', random_state = 42)\n",
    "rf9.fit(train_features, train_labels);\n",
    "predictions = rf9.predict(test_features)\n",
    "errors = abs(predictions - test_labels)\n",
    "print('Mean Absolute Error:', round(np.mean(errors), 2), 'degrees.')\n",
    "mape = 100 * (errors / test_labels)\n",
    "# Calculate and display accuracy\n",
    "accuracy = 100 - np.mean(mape)\n",
    "print('Accuracy:', round(accuracy, 2), '%.')"
   ]
  },
  {
   "cell_type": "code",
   "execution_count": 28,
   "metadata": {},
   "outputs": [
    {
     "data": {
      "text/html": [
       "<div>\n",
       "<style scoped>\n",
       "    .dataframe tbody tr th:only-of-type {\n",
       "        vertical-align: middle;\n",
       "    }\n",
       "\n",
       "    .dataframe tbody tr th {\n",
       "        vertical-align: top;\n",
       "    }\n",
       "\n",
       "    .dataframe thead th {\n",
       "        text-align: right;\n",
       "    }\n",
       "</style>\n",
       "<table border=\"1\" class=\"dataframe\">\n",
       "  <thead>\n",
       "    <tr style=\"text-align: right;\">\n",
       "      <th></th>\n",
       "      <th>0</th>\n",
       "    </tr>\n",
       "  </thead>\n",
       "  <tbody>\n",
       "    <tr>\n",
       "      <th>0</th>\n",
       "      <td>8824.330680</td>\n",
       "    </tr>\n",
       "    <tr>\n",
       "      <th>1</th>\n",
       "      <td>8808.559565</td>\n",
       "    </tr>\n",
       "    <tr>\n",
       "      <th>2</th>\n",
       "      <td>8840.740521</td>\n",
       "    </tr>\n",
       "    <tr>\n",
       "      <th>3</th>\n",
       "      <td>8819.459078</td>\n",
       "    </tr>\n",
       "    <tr>\n",
       "      <th>4</th>\n",
       "      <td>8926.159509</td>\n",
       "    </tr>\n",
       "    <tr>\n",
       "      <th>5</th>\n",
       "      <td>8907.534229</td>\n",
       "    </tr>\n",
       "    <tr>\n",
       "      <th>6</th>\n",
       "      <td>8822.064030</td>\n",
       "    </tr>\n",
       "    <tr>\n",
       "      <th>7</th>\n",
       "      <td>8779.326638</td>\n",
       "    </tr>\n",
       "    <tr>\n",
       "      <th>8</th>\n",
       "      <td>8819.842390</td>\n",
       "    </tr>\n",
       "    <tr>\n",
       "      <th>9</th>\n",
       "      <td>8807.475088</td>\n",
       "    </tr>\n",
       "  </tbody>\n",
       "</table>\n",
       "</div>"
      ],
      "text/plain": [
       "             0\n",
       "0  8824.330680\n",
       "1  8808.559565\n",
       "2  8840.740521\n",
       "3  8819.459078\n",
       "4  8926.159509\n",
       "5  8907.534229\n",
       "6  8822.064030\n",
       "7  8779.326638\n",
       "8  8819.842390\n",
       "9  8807.475088"
      ]
     },
     "execution_count": 28,
     "metadata": {},
     "output_type": "execute_result"
    }
   ],
   "source": [
    "#Test 9 Month\n",
    "dft = pd.read_csv(path/'Bitcoin - rftest.csv')\n",
    "dft= dft.drop(['data','price'], axis = 1)\n",
    "predictions = pd.DataFrame(rf9.predict(dft))\n",
    "predictions"
   ]
  },
  {
   "cell_type": "markdown",
   "metadata": {},
   "source": [
    "#### 12 Month Price"
   ]
  },
  {
   "cell_type": "code",
   "execution_count": 29,
   "metadata": {},
   "outputs": [
    {
     "name": "stdout",
     "output_type": "stream",
     "text": [
      "Training Features Shape: (2265, 20)\n",
      "Training Labels Shape: (2265,)\n",
      "Testing Features Shape: (755, 20)\n",
      "Testing Labels Shape: (755,)\n"
     ]
    }
   ],
   "source": [
    "dfr12 = pd.read_csv(path/'Bitcoin - rf12.csv')\n",
    "labels = np.array(dfr12['price'])\n",
    "features= dfr12.drop(['price','date'], axis = 1)\n",
    "feature_list = list(features.columns)\n",
    "features = np.array(features)\n",
    "train_features, test_features, train_labels, test_labels = train_test_split(features, labels, test_size = 0.25, random_state = 42)\n",
    "print('Training Features Shape:', train_features.shape)\n",
    "print('Training Labels Shape:', train_labels.shape)\n",
    "print('Testing Features Shape:', test_features.shape)\n",
    "print('Testing Labels Shape:', test_labels.shape)"
   ]
  },
  {
   "cell_type": "code",
   "execution_count": 30,
   "metadata": {},
   "outputs": [
    {
     "name": "stdout",
     "output_type": "stream",
     "text": [
      "Mean Absolute Error: 105.9 degrees.\n",
      "Accuracy: 95.85 %.\n"
     ]
    }
   ],
   "source": [
    "rf12 = RandomForestRegressor(max_depth=110,n_estimators = 1000, max_features='sqrt', random_state = 42)\n",
    "rf12.fit(train_features, train_labels);\n",
    "predictions = rf12.predict(test_features)\n",
    "errors = abs(predictions - test_labels)\n",
    "print('Mean Absolute Error:', round(np.mean(errors), 2), 'degrees.')\n",
    "mape = 100 * (errors / test_labels)\n",
    "# Calculate and display accuracy\n",
    "accuracy = 100 - np.mean(mape)\n",
    "print('Accuracy:', round(accuracy, 2), '%.')"
   ]
  },
  {
   "cell_type": "code",
   "execution_count": 31,
   "metadata": {},
   "outputs": [
    {
     "data": {
      "text/html": [
       "<div>\n",
       "<style scoped>\n",
       "    .dataframe tbody tr th:only-of-type {\n",
       "        vertical-align: middle;\n",
       "    }\n",
       "\n",
       "    .dataframe tbody tr th {\n",
       "        vertical-align: top;\n",
       "    }\n",
       "\n",
       "    .dataframe thead th {\n",
       "        text-align: right;\n",
       "    }\n",
       "</style>\n",
       "<table border=\"1\" class=\"dataframe\">\n",
       "  <thead>\n",
       "    <tr style=\"text-align: right;\">\n",
       "      <th></th>\n",
       "      <th>0</th>\n",
       "    </tr>\n",
       "  </thead>\n",
       "  <tbody>\n",
       "    <tr>\n",
       "      <th>0</th>\n",
       "      <td>8734.946081</td>\n",
       "    </tr>\n",
       "    <tr>\n",
       "      <th>1</th>\n",
       "      <td>8731.354046</td>\n",
       "    </tr>\n",
       "    <tr>\n",
       "      <th>2</th>\n",
       "      <td>8578.820705</td>\n",
       "    </tr>\n",
       "    <tr>\n",
       "      <th>3</th>\n",
       "      <td>8751.535518</td>\n",
       "    </tr>\n",
       "    <tr>\n",
       "      <th>4</th>\n",
       "      <td>8872.000674</td>\n",
       "    </tr>\n",
       "    <tr>\n",
       "      <th>5</th>\n",
       "      <td>8755.528631</td>\n",
       "    </tr>\n",
       "    <tr>\n",
       "      <th>6</th>\n",
       "      <td>8684.120996</td>\n",
       "    </tr>\n",
       "    <tr>\n",
       "      <th>7</th>\n",
       "      <td>8665.084718</td>\n",
       "    </tr>\n",
       "    <tr>\n",
       "      <th>8</th>\n",
       "      <td>8501.641018</td>\n",
       "    </tr>\n",
       "    <tr>\n",
       "      <th>9</th>\n",
       "      <td>8708.817248</td>\n",
       "    </tr>\n",
       "  </tbody>\n",
       "</table>\n",
       "</div>"
      ],
      "text/plain": [
       "             0\n",
       "0  8734.946081\n",
       "1  8731.354046\n",
       "2  8578.820705\n",
       "3  8751.535518\n",
       "4  8872.000674\n",
       "5  8755.528631\n",
       "6  8684.120996\n",
       "7  8665.084718\n",
       "8  8501.641018\n",
       "9  8708.817248"
      ]
     },
     "execution_count": 31,
     "metadata": {},
     "output_type": "execute_result"
    }
   ],
   "source": [
    "#Test 12 Month\n",
    "dft = pd.read_csv(path/'Bitcoin - rftest.csv')\n",
    "dft= dft.drop(['data','price'], axis = 1)\n",
    "predictions = pd.DataFrame(rf12.predict(dft))\n",
    "predictions"
   ]
  },
  {
   "cell_type": "markdown",
   "metadata": {},
   "source": [
    "### Interpretation"
   ]
  },
  {
   "cell_type": "code",
   "execution_count": 57,
   "metadata": {},
   "outputs": [],
   "source": [
    "fi = rf.feature_importances_"
   ]
  },
  {
   "cell_type": "code",
   "execution_count": 58,
   "metadata": {},
   "outputs": [
    {
     "data": {
      "text/html": [
       "<div>\n",
       "<style scoped>\n",
       "    .dataframe tbody tr th:only-of-type {\n",
       "        vertical-align: middle;\n",
       "    }\n",
       "\n",
       "    .dataframe tbody tr th {\n",
       "        vertical-align: top;\n",
       "    }\n",
       "\n",
       "    .dataframe thead th {\n",
       "        text-align: right;\n",
       "    }\n",
       "</style>\n",
       "<table border=\"1\" class=\"dataframe\">\n",
       "  <thead>\n",
       "    <tr style=\"text-align: right;\">\n",
       "      <th></th>\n",
       "      <th>Variable</th>\n",
       "      <th>Importance</th>\n",
       "    </tr>\n",
       "  </thead>\n",
       "  <tbody>\n",
       "    <tr>\n",
       "      <th>14</th>\n",
       "      <td>transactions</td>\n",
       "      <td>0.155024</td>\n",
       "    </tr>\n",
       "    <tr>\n",
       "      <th>19</th>\n",
       "      <td>total_bitcoins</td>\n",
       "      <td>0.151407</td>\n",
       "    </tr>\n",
       "    <tr>\n",
       "      <th>1</th>\n",
       "      <td>wallets</td>\n",
       "      <td>0.143785</td>\n",
       "    </tr>\n",
       "    <tr>\n",
       "      <th>6</th>\n",
       "      <td>api_blockchain_size</td>\n",
       "      <td>0.120955</td>\n",
       "    </tr>\n",
       "    <tr>\n",
       "      <th>18</th>\n",
       "      <td>market_cap</td>\n",
       "      <td>0.091427</td>\n",
       "    </tr>\n",
       "    <tr>\n",
       "      <th>3</th>\n",
       "      <td>difficulty</td>\n",
       "      <td>0.082158</td>\n",
       "    </tr>\n",
       "    <tr>\n",
       "      <th>0</th>\n",
       "      <td>hash_rate</td>\n",
       "      <td>0.059016</td>\n",
       "    </tr>\n",
       "    <tr>\n",
       "      <th>7</th>\n",
       "      <td>miners_revenue</td>\n",
       "      <td>0.056651</td>\n",
       "    </tr>\n",
       "    <tr>\n",
       "      <th>16</th>\n",
       "      <td>trans_fees_usd</td>\n",
       "      <td>0.040071</td>\n",
       "    </tr>\n",
       "    <tr>\n",
       "      <th>9</th>\n",
       "      <td>us_exchange_traded_vol</td>\n",
       "      <td>0.026475</td>\n",
       "    </tr>\n",
       "    <tr>\n",
       "      <th>17</th>\n",
       "      <td>trans_fees</td>\n",
       "      <td>0.016788</td>\n",
       "    </tr>\n",
       "    <tr>\n",
       "      <th>12</th>\n",
       "      <td>unique_addresses_used</td>\n",
       "      <td>0.012533</td>\n",
       "    </tr>\n",
       "    <tr>\n",
       "      <th>5</th>\n",
       "      <td>avg_block_size</td>\n",
       "      <td>0.011917</td>\n",
       "    </tr>\n",
       "    <tr>\n",
       "      <th>8</th>\n",
       "      <td>cost_per_trans</td>\n",
       "      <td>0.011007</td>\n",
       "    </tr>\n",
       "    <tr>\n",
       "      <th>15</th>\n",
       "      <td>num_transactions</td>\n",
       "      <td>0.005335</td>\n",
       "    </tr>\n",
       "    <tr>\n",
       "      <th>13</th>\n",
       "      <td>trans_excl_popular</td>\n",
       "      <td>0.003670</td>\n",
       "    </tr>\n",
       "    <tr>\n",
       "      <th>4</th>\n",
       "      <td>wallet_trans_volume</td>\n",
       "      <td>0.003523</td>\n",
       "    </tr>\n",
       "    <tr>\n",
       "      <th>11</th>\n",
       "      <td>trans_per_block</td>\n",
       "      <td>0.002852</td>\n",
       "    </tr>\n",
       "    <tr>\n",
       "      <th>10</th>\n",
       "      <td>total_output_vol</td>\n",
       "      <td>0.002850</td>\n",
       "    </tr>\n",
       "    <tr>\n",
       "      <th>2</th>\n",
       "      <td>wallet_trans_perday</td>\n",
       "      <td>0.002557</td>\n",
       "    </tr>\n",
       "  </tbody>\n",
       "</table>\n",
       "</div>"
      ],
      "text/plain": [
       "                  Variable  Importance\n",
       "14            transactions    0.155024\n",
       "19          total_bitcoins    0.151407\n",
       "1                  wallets    0.143785\n",
       "6      api_blockchain_size    0.120955\n",
       "18              market_cap    0.091427\n",
       "3               difficulty    0.082158\n",
       "0                hash_rate    0.059016\n",
       "7           miners_revenue    0.056651\n",
       "16          trans_fees_usd    0.040071\n",
       "9   us_exchange_traded_vol    0.026475\n",
       "17              trans_fees    0.016788\n",
       "12   unique_addresses_used    0.012533\n",
       "5           avg_block_size    0.011917\n",
       "8           cost_per_trans    0.011007\n",
       "15        num_transactions    0.005335\n",
       "13      trans_excl_popular    0.003670\n",
       "4      wallet_trans_volume    0.003523\n",
       "11         trans_per_block    0.002852\n",
       "10        total_output_vol    0.002850\n",
       "2      wallet_trans_perday    0.002557"
      ]
     },
     "execution_count": 58,
     "metadata": {},
     "output_type": "execute_result"
    }
   ],
   "source": [
    "pd.DataFrame({'Variable':feature_list,\n",
    "              'Importance':rf.feature_importances_}).sort_values('Importance', ascending=False)"
   ]
  },
  {
   "cell_type": "code",
   "execution_count": 63,
   "metadata": {},
   "outputs": [
    {
     "data": {
      "image/png": "[encoded data removed]",
      "text/plain": [
       "<Figure size 432x288 with 1 Axes>"
      ]
     },
     "metadata": {
      "needs_background": "light"
     },
     "output_type": "display_data"
    }
   ],
   "source": [
    "features=feature_list\n",
    "importances = rf.feature_importances_\n",
    "indices = np.argsort(importances)\n",
    "\n",
    "plt.title('Feature Importances')\n",
    "plt.barh(range(len(indices)), importances[indices], color='b', align='center')\n",
    "plt.yticks(range(len(indices)), [features[i] for i in indices])\n",
    "plt.xlabel('Relative Importance')\n",
    "plt.show()"
   ]
  },
  {
   "cell_type": "markdown",
   "metadata": {},
   "source": [
    "### Fine Tuning"
   ]
  },
  {
   "cell_type": "code",
   "execution_count": 157,
   "metadata": {},
   "outputs": [
    {
     "name": "stdout",
     "output_type": "stream",
     "text": [
      "{'bootstrap': True,\n",
      " 'criterion': 'mse',\n",
      " 'max_depth': 110,\n",
      " 'max_features': 'sqrt',\n",
      " 'max_leaf_nodes': None,\n",
      " 'min_impurity_decrease': 0.0,\n",
      " 'min_impurity_split': None,\n",
      " 'min_samples_leaf': 1,\n",
      " 'min_samples_split': 2,\n",
      " 'min_weight_fraction_leaf': 0.0,\n",
      " 'n_estimators': 1000,\n",
      " 'n_jobs': None,\n",
      " 'oob_score': False,\n",
      " 'random_state': 42,\n",
      " 'verbose': 0,\n",
      " 'warm_start': False}\n"
     ]
    }
   ],
   "source": [
    "from pprint import pprint\n",
    "pprint(rf.get_params())"
   ]
  },
  {
   "cell_type": "code",
   "execution_count": 158,
   "metadata": {},
   "outputs": [
    {
     "name": "stdout",
     "output_type": "stream",
     "text": [
      "{'bootstrap': [True, False],\n",
      " 'max_depth': [10, 20, 30, 40, 50, 60, 70, 80, 90, 100, 110, None],\n",
      " 'max_features': ['auto', 'sqrt'],\n",
      " 'min_samples_leaf': [1, 2, 4],\n",
      " 'min_samples_split': [2, 5, 10],\n",
      " 'n_estimators': [200, 400, 600, 800, 1000, 1200, 1400, 1600, 1800, 2000]}\n"
     ]
    }
   ],
   "source": [
    "from sklearn.model_selection import RandomizedSearchCV\n",
    "# Number of trees in random forest\n",
    "n_estimators = [int(x) for x in np.linspace(start = 200, stop = 2000, num = 10)]\n",
    "# Number of features to consider at every split\n",
    "max_features = ['auto', 'sqrt']\n",
    "# Maximum number of levels in tree\n",
    "max_depth = [int(x) for x in np.linspace(10, 110, num = 11)]\n",
    "max_depth.append(None)\n",
    "# Minimum number of samples required to split a node\n",
    "min_samples_split = [2, 5, 10]\n",
    "# Minimum number of samples required at each leaf node\n",
    "min_samples_leaf = [1, 2, 4]\n",
    "# Method of selecting samples for training each tree\n",
    "bootstrap = [True, False]\n",
    "# Create the random grid\n",
    "random_grid = {'n_estimators': n_estimators,\n",
    "               'max_features': max_features,\n",
    "               'max_depth': max_depth,\n",
    "               'min_samples_split': min_samples_split,\n",
    "               'min_samples_leaf': min_samples_leaf,\n",
    "               'bootstrap': bootstrap}\n",
    "pprint(random_grid)"
   ]
  },
  {
   "cell_type": "code",
   "execution_count": 159,
   "metadata": {},
   "outputs": [
    {
     "name": "stdout",
     "output_type": "stream",
     "text": [
      "Fitting 3 folds for each of 100 candidates, totalling 300 fits\n"
     ]
    },
    {
     "name": "stderr",
     "output_type": "stream",
     "text": [
      "[Parallel(n_jobs=-1)]: Using backend LokyBackend with 8 concurrent workers.\n",
      "[Parallel(n_jobs=-1)]: Done  25 tasks      | elapsed:  1.2min\n",
      "[Parallel(n_jobs=-1)]: Done 146 tasks      | elapsed:  5.1min\n",
      "[Parallel(n_jobs=-1)]: Done 300 out of 300 | elapsed: 11.9min finished\n"
     ]
    },
    {
     "data": {
      "text/plain": [
       "RandomizedSearchCV(cv=3, error_score='raise-deprecating',\n",
       "          estimator=RandomForestRegressor(bootstrap=True, criterion='mse', max_depth=None,\n",
       "           max_features='auto', max_leaf_nodes=None,\n",
       "           min_impurity_decrease=0.0, min_impurity_split=None,\n",
       "           min_samples_leaf=1, min_samples_split=2,\n",
       "           min_weight_fraction_leaf=0.0, n_estimators='warn', n_jobs=None,\n",
       "           oob_score=False, random_state=None, verbose=0, warm_start=False),\n",
       "          fit_params=None, iid='warn', n_iter=100, n_jobs=-1,\n",
       "          param_distributions={'n_estimators': [200, 400, 600, 800, 1000, 1200, 1400, 1600, 1800, 2000], 'max_features': ['auto', 'sqrt'], 'max_depth': [10, 20, 30, 40, 50, 60, 70, 80, 90, 100, 110, None], 'min_samples_split': [2, 5, 10], 'min_samples_leaf': [1, 2, 4], 'bootstrap': [True, False]},\n",
       "          pre_dispatch='2*n_jobs', random_state=42, refit=True,\n",
       "          return_train_score='warn', scoring=None, verbose=2)"
      ]
     },
     "execution_count": 159,
     "metadata": {},
     "output_type": "execute_result"
    }
   ],
   "source": [
    "# Use the random grid to search for best hyperparameters\n",
    "# First create the base model to tune\n",
    "rf = RandomForestRegressor()\n",
    "# Random search of parameters, using 3 fold cross validation, \n",
    "# search across 100 different combinations, and use all available cores\n",
    "rf_random = RandomizedSearchCV(estimator = rf, param_distributions = random_grid, n_iter = 100, cv = 3, verbose=2, random_state=42, n_jobs = -1)\n",
    "# Fit the random search model\n",
    "rf_random.fit(train_features, train_labels)"
   ]
  },
  {
   "cell_type": "code",
   "execution_count": null,
   "metadata": {},
   "outputs": [],
   "source": []
  }
 ],
 "metadata": {
  "kernelspec": {
   "display_name": "Python 3",
   "language": "python",
   "name": "python3"
  },
  "language_info": {
   "codemirror_mode": {
    "name": "ipython",
    "version": 3
   },
   "file_extension": ".py",
   "mimetype": "text/x-python",
   "name": "python",
   "nbconvert_exporter": "python",
   "pygments_lexer": "ipython3",
   "version": "3.7.3"
  }
 },
 "nbformat": 4,
 "nbformat_minor": 2
}
