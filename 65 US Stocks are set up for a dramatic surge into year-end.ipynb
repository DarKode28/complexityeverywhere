{
 "cells": [
  {
   "cell_type": "code",
   "execution_count": 35,
   "metadata": {},
   "outputs": [],
   "source": [
    "%reload_ext autoreload\n",
    "%autoreload\n",
    "%matplotlib inline"
   ]
  },
  {
   "cell_type": "code",
   "execution_count": 36,
   "metadata": {},
   "outputs": [],
   "source": [
    "import numpy as np\n",
    "import pandas as pd\n",
    "import matplotlib.pyplot as plt\n",
    "import seaborn as sns"
   ]
  },
  {
   "cell_type": "code",
   "execution_count": 37,
   "metadata": {},
   "outputs": [],
   "source": [
    "from ewstools import ewstools"
   ]
  },
  {
   "cell_type": "code",
   "execution_count": 38,
   "metadata": {},
   "outputs": [
    {
     "data": {
      "text/plain": [
       "pathlib.Path"
      ]
     },
     "execution_count": 38,
     "metadata": {},
     "output_type": "execute_result"
    }
   ],
   "source": [
    "from pathlib import Path\n",
    "Path"
   ]
  },
  {
   "cell_type": "code",
   "execution_count": 39,
   "metadata": {},
   "outputs": [
    {
     "data": {
      "text/html": [
       "<div>\n",
       "<style scoped>\n",
       "    .dataframe tbody tr th:only-of-type {\n",
       "        vertical-align: middle;\n",
       "    }\n",
       "\n",
       "    .dataframe tbody tr th {\n",
       "        vertical-align: top;\n",
       "    }\n",
       "\n",
       "    .dataframe thead th {\n",
       "        text-align: right;\n",
       "    }\n",
       "</style>\n",
       "<table border=\"1\" class=\"dataframe\">\n",
       "  <thead>\n",
       "    <tr style=\"text-align: right;\">\n",
       "      <th></th>\n",
       "      <th>Date</th>\n",
       "      <th>Open</th>\n",
       "      <th>High</th>\n",
       "      <th>Low</th>\n",
       "      <th>Close</th>\n",
       "      <th>Adj Close</th>\n",
       "      <th>Volume</th>\n",
       "      <th>Log</th>\n",
       "      <th>9-MA</th>\n",
       "      <th>Smoothed</th>\n",
       "    </tr>\n",
       "  </thead>\n",
       "  <tbody>\n",
       "    <tr>\n",
       "      <th>0</th>\n",
       "      <td>1</td>\n",
       "      <td>2072.290039</td>\n",
       "      <td>2072.290039</td>\n",
       "      <td>2045.660034</td>\n",
       "      <td>2045.969971</td>\n",
       "      <td>2045.969971</td>\n",
       "      <td>4016370000</td>\n",
       "      <td>3.310899</td>\n",
       "      <td>3.31359</td>\n",
       "      <td>-0.00269</td>\n",
       "    </tr>\n",
       "    <tr>\n",
       "      <th>1</th>\n",
       "      <td>2</td>\n",
       "      <td>2044.640015</td>\n",
       "      <td>2044.640015</td>\n",
       "      <td>2022.020020</td>\n",
       "      <td>2023.040039</td>\n",
       "      <td>2023.040039</td>\n",
       "      <td>4278750000</td>\n",
       "      <td>3.306004</td>\n",
       "      <td>3.31426</td>\n",
       "      <td>-0.00825</td>\n",
       "    </tr>\n",
       "    <tr>\n",
       "      <th>2</th>\n",
       "      <td>3</td>\n",
       "      <td>2022.079956</td>\n",
       "      <td>2053.219971</td>\n",
       "      <td>2019.390015</td>\n",
       "      <td>2053.189941</td>\n",
       "      <td>2053.189941</td>\n",
       "      <td>3741240000</td>\n",
       "      <td>3.312429</td>\n",
       "      <td>3.31632</td>\n",
       "      <td>-0.00389</td>\n",
       "    </tr>\n",
       "    <tr>\n",
       "      <th>3</th>\n",
       "      <td>4</td>\n",
       "      <td>2053.669922</td>\n",
       "      <td>2066.689941</td>\n",
       "      <td>2045.900024</td>\n",
       "      <td>2050.439941</td>\n",
       "      <td>2050.439941</td>\n",
       "      <td>4427350000</td>\n",
       "      <td>3.311847</td>\n",
       "      <td>3.31729</td>\n",
       "      <td>-0.00545</td>\n",
       "    </tr>\n",
       "    <tr>\n",
       "      <th>4</th>\n",
       "      <td>5</td>\n",
       "      <td>2051.989990</td>\n",
       "      <td>2085.310059</td>\n",
       "      <td>2051.989990</td>\n",
       "      <td>2083.580078</td>\n",
       "      <td>2083.580078</td>\n",
       "      <td>3926390000</td>\n",
       "      <td>3.318810</td>\n",
       "      <td>3.31865</td>\n",
       "      <td>0.00016</td>\n",
       "    </tr>\n",
       "    <tr>\n",
       "      <th>5</th>\n",
       "      <td>6</td>\n",
       "      <td>2083.699951</td>\n",
       "      <td>2086.739990</td>\n",
       "      <td>2078.760010</td>\n",
       "      <td>2081.239990</td>\n",
       "      <td>2081.239990</td>\n",
       "      <td>3628110000</td>\n",
       "      <td>3.318322</td>\n",
       "      <td>3.31861</td>\n",
       "      <td>-0.00029</td>\n",
       "    </tr>\n",
       "    <tr>\n",
       "      <th>6</th>\n",
       "      <td>7</td>\n",
       "      <td>2082.820068</td>\n",
       "      <td>2097.060059</td>\n",
       "      <td>2082.820068</td>\n",
       "      <td>2089.169922</td>\n",
       "      <td>2089.169922</td>\n",
       "      <td>3929600000</td>\n",
       "      <td>3.319974</td>\n",
       "      <td>3.31869</td>\n",
       "      <td>0.00129</td>\n",
       "    </tr>\n",
       "    <tr>\n",
       "      <th>7</th>\n",
       "      <td>8</td>\n",
       "      <td>2089.409912</td>\n",
       "      <td>2095.610107</td>\n",
       "      <td>2081.389893</td>\n",
       "      <td>2086.590088</td>\n",
       "      <td>2086.590088</td>\n",
       "      <td>3587980000</td>\n",
       "      <td>3.319437</td>\n",
       "      <td>3.31837</td>\n",
       "      <td>0.00107</td>\n",
       "    </tr>\n",
       "    <tr>\n",
       "      <th>8</th>\n",
       "      <td>9</td>\n",
       "      <td>2084.419922</td>\n",
       "      <td>2094.120117</td>\n",
       "      <td>2070.290039</td>\n",
       "      <td>2089.139893</td>\n",
       "      <td>2089.139893</td>\n",
       "      <td>3884930000</td>\n",
       "      <td>3.319968</td>\n",
       "      <td>3.31810</td>\n",
       "      <td>0.00187</td>\n",
       "    </tr>\n",
       "    <tr>\n",
       "      <th>9</th>\n",
       "      <td>10</td>\n",
       "      <td>2089.300049</td>\n",
       "      <td>2093.000000</td>\n",
       "      <td>2086.300049</td>\n",
       "      <td>2088.870117</td>\n",
       "      <td>2088.870117</td>\n",
       "      <td>2852940000</td>\n",
       "      <td>3.319911</td>\n",
       "      <td>3.31763</td>\n",
       "      <td>0.00228</td>\n",
       "    </tr>\n",
       "    <tr>\n",
       "      <th>10</th>\n",
       "      <td>11</td>\n",
       "      <td>2088.820068</td>\n",
       "      <td>2093.290039</td>\n",
       "      <td>2084.129883</td>\n",
       "      <td>2090.110107</td>\n",
       "      <td>2090.110107</td>\n",
       "      <td>1466840000</td>\n",
       "      <td>3.320169</td>\n",
       "      <td>3.31706</td>\n",
       "      <td>0.00311</td>\n",
       "    </tr>\n",
       "    <tr>\n",
       "      <th>11</th>\n",
       "      <td>12</td>\n",
       "      <td>2090.949951</td>\n",
       "      <td>2093.810059</td>\n",
       "      <td>2080.409912</td>\n",
       "      <td>2080.409912</td>\n",
       "      <td>2080.409912</td>\n",
       "      <td>4275030000</td>\n",
       "      <td>3.318149</td>\n",
       "      <td>3.31628</td>\n",
       "      <td>0.00187</td>\n",
       "    </tr>\n",
       "    <tr>\n",
       "      <th>12</th>\n",
       "      <td>13</td>\n",
       "      <td>2082.929932</td>\n",
       "      <td>2103.370117</td>\n",
       "      <td>2082.929932</td>\n",
       "      <td>2102.629883</td>\n",
       "      <td>2102.629883</td>\n",
       "      <td>3712120000</td>\n",
       "      <td>3.322763</td>\n",
       "      <td>3.31582</td>\n",
       "      <td>0.00695</td>\n",
       "    </tr>\n",
       "    <tr>\n",
       "      <th>13</th>\n",
       "      <td>14</td>\n",
       "      <td>2101.709961</td>\n",
       "      <td>2104.270020</td>\n",
       "      <td>2077.110107</td>\n",
       "      <td>2079.510010</td>\n",
       "      <td>2079.510010</td>\n",
       "      <td>3950640000</td>\n",
       "      <td>3.317961</td>\n",
       "      <td>3.31408</td>\n",
       "      <td>0.00388</td>\n",
       "    </tr>\n",
       "    <tr>\n",
       "      <th>14</th>\n",
       "      <td>15</td>\n",
       "      <td>2080.709961</td>\n",
       "      <td>2085.000000</td>\n",
       "      <td>2042.349976</td>\n",
       "      <td>2049.620117</td>\n",
       "      <td>2049.620117</td>\n",
       "      <td>4306490000</td>\n",
       "      <td>3.311673</td>\n",
       "      <td>3.31311</td>\n",
       "      <td>-0.00144</td>\n",
       "    </tr>\n",
       "    <tr>\n",
       "      <th>15</th>\n",
       "      <td>16</td>\n",
       "      <td>2051.239990</td>\n",
       "      <td>2093.840088</td>\n",
       "      <td>2051.239990</td>\n",
       "      <td>2091.689941</td>\n",
       "      <td>2091.689941</td>\n",
       "      <td>4214910000</td>\n",
       "      <td>3.320497</td>\n",
       "      <td>3.31347</td>\n",
       "      <td>0.00703</td>\n",
       "    </tr>\n",
       "    <tr>\n",
       "      <th>16</th>\n",
       "      <td>17</td>\n",
       "      <td>2090.419922</td>\n",
       "      <td>2090.419922</td>\n",
       "      <td>2066.780029</td>\n",
       "      <td>2077.070068</td>\n",
       "      <td>2077.070068</td>\n",
       "      <td>4043820000</td>\n",
       "      <td>3.317451</td>\n",
       "      <td>3.31171</td>\n",
       "      <td>0.00574</td>\n",
       "    </tr>\n",
       "    <tr>\n",
       "      <th>17</th>\n",
       "      <td>18</td>\n",
       "      <td>2073.389893</td>\n",
       "      <td>2073.850098</td>\n",
       "      <td>2052.320068</td>\n",
       "      <td>2063.590088</td>\n",
       "      <td>2063.590088</td>\n",
       "      <td>4173570000</td>\n",
       "      <td>3.314623</td>\n",
       "      <td>3.31027</td>\n",
       "      <td>0.00435</td>\n",
       "    </tr>\n",
       "    <tr>\n",
       "      <th>18</th>\n",
       "      <td>19</td>\n",
       "      <td>2061.169922</td>\n",
       "      <td>2080.330078</td>\n",
       "      <td>2036.530029</td>\n",
       "      <td>2047.619995</td>\n",
       "      <td>2047.619995</td>\n",
       "      <td>4385250000</td>\n",
       "      <td>3.311249</td>\n",
       "      <td>3.30919</td>\n",
       "      <td>0.00206</td>\n",
       "    </tr>\n",
       "    <tr>\n",
       "      <th>19</th>\n",
       "      <td>20</td>\n",
       "      <td>2047.930054</td>\n",
       "      <td>2067.649902</td>\n",
       "      <td>2045.670044</td>\n",
       "      <td>2052.229980</td>\n",
       "      <td>2052.229980</td>\n",
       "      <td>3715150000</td>\n",
       "      <td>3.312226</td>\n",
       "      <td>3.30867</td>\n",
       "      <td>0.00355</td>\n",
       "    </tr>\n",
       "  </tbody>\n",
       "</table>\n",
       "</div>"
      ],
      "text/plain": [
       "    Date         Open         High          Low        Close    Adj Close  \\\n",
       "0      1  2072.290039  2072.290039  2045.660034  2045.969971  2045.969971   \n",
       "1      2  2044.640015  2044.640015  2022.020020  2023.040039  2023.040039   \n",
       "2      3  2022.079956  2053.219971  2019.390015  2053.189941  2053.189941   \n",
       "3      4  2053.669922  2066.689941  2045.900024  2050.439941  2050.439941   \n",
       "4      5  2051.989990  2085.310059  2051.989990  2083.580078  2083.580078   \n",
       "5      6  2083.699951  2086.739990  2078.760010  2081.239990  2081.239990   \n",
       "6      7  2082.820068  2097.060059  2082.820068  2089.169922  2089.169922   \n",
       "7      8  2089.409912  2095.610107  2081.389893  2086.590088  2086.590088   \n",
       "8      9  2084.419922  2094.120117  2070.290039  2089.139893  2089.139893   \n",
       "9     10  2089.300049  2093.000000  2086.300049  2088.870117  2088.870117   \n",
       "10    11  2088.820068  2093.290039  2084.129883  2090.110107  2090.110107   \n",
       "11    12  2090.949951  2093.810059  2080.409912  2080.409912  2080.409912   \n",
       "12    13  2082.929932  2103.370117  2082.929932  2102.629883  2102.629883   \n",
       "13    14  2101.709961  2104.270020  2077.110107  2079.510010  2079.510010   \n",
       "14    15  2080.709961  2085.000000  2042.349976  2049.620117  2049.620117   \n",
       "15    16  2051.239990  2093.840088  2051.239990  2091.689941  2091.689941   \n",
       "16    17  2090.419922  2090.419922  2066.780029  2077.070068  2077.070068   \n",
       "17    18  2073.389893  2073.850098  2052.320068  2063.590088  2063.590088   \n",
       "18    19  2061.169922  2080.330078  2036.530029  2047.619995  2047.619995   \n",
       "19    20  2047.930054  2067.649902  2045.670044  2052.229980  2052.229980   \n",
       "\n",
       "        Volume       Log     9-MA  Smoothed  \n",
       "0   4016370000  3.310899  3.31359  -0.00269  \n",
       "1   4278750000  3.306004  3.31426  -0.00825  \n",
       "2   3741240000  3.312429  3.31632  -0.00389  \n",
       "3   4427350000  3.311847  3.31729  -0.00545  \n",
       "4   3926390000  3.318810  3.31865   0.00016  \n",
       "5   3628110000  3.318322  3.31861  -0.00029  \n",
       "6   3929600000  3.319974  3.31869   0.00129  \n",
       "7   3587980000  3.319437  3.31837   0.00107  \n",
       "8   3884930000  3.319968  3.31810   0.00187  \n",
       "9   2852940000  3.319911  3.31763   0.00228  \n",
       "10  1466840000  3.320169  3.31706   0.00311  \n",
       "11  4275030000  3.318149  3.31628   0.00187  \n",
       "12  3712120000  3.322763  3.31582   0.00695  \n",
       "13  3950640000  3.317961  3.31408   0.00388  \n",
       "14  4306490000  3.311673  3.31311  -0.00144  \n",
       "15  4214910000  3.320497  3.31347   0.00703  \n",
       "16  4043820000  3.317451  3.31171   0.00574  \n",
       "17  4173570000  3.314623  3.31027   0.00435  \n",
       "18  4385250000  3.311249  3.30919   0.00206  \n",
       "19  3715150000  3.312226  3.30867   0.00355  "
      ]
     },
     "execution_count": 39,
     "metadata": {},
     "output_type": "execute_result"
    }
   ],
   "source": [
    "df = pd.read_csv('sp1.csv')\n",
    "df.head(20)"
   ]
  },
  {
   "cell_type": "code",
   "execution_count": 40,
   "metadata": {},
   "outputs": [],
   "source": [
    "df.set_index('Date');"
   ]
  },
  {
   "cell_type": "code",
   "execution_count": 41,
   "metadata": {},
   "outputs": [],
   "source": [
    "df_traj = pd.DataFrame(df)\n",
    "df_traj.set_index('Date', inplace=True)"
   ]
  },
  {
   "cell_type": "code",
   "execution_count": 42,
   "metadata": {},
   "outputs": [],
   "source": [
    "rw = 0.5 # rolling window\n",
    "span = 0.5 # Lowess span\n",
    "lags = [1,2,3] # autocorrelation lag times to compute\n",
    "ews = ['var','sd','ac','skew','kurt','ac','smax','cf','aic'] # EWS to compute (let's do all of them)\n",
    "ham_length = 80 # number of data points in Hamming window\n",
    "ham_offset = 0.5 # proportion of Hamming window to offset by upon each iteration\n",
    "pspec_roll_offset = 20 # offset for rolling window when doing spectrum metrics"
   ]
  },
  {
   "cell_type": "code",
   "execution_count": 43,
   "metadata": {},
   "outputs": [
    {
     "data": {
      "text/plain": [
       "<function ewstools.ewstools.ews_compute(raw_series, roll_window=0.4, smooth='Lowess', span=0.1, band_width=0.2, upto='Full', ews=['var', 'ac'], lag_times=[1], ham_length=40, ham_offset=0.5, pspec_roll_offset=20, w_cutoff=1, sweep=False)>"
      ]
     },
     "execution_count": 43,
     "metadata": {},
     "output_type": "execute_result"
    }
   ],
   "source": [
    "ewstools.ews_compute"
   ]
  },
  {
   "cell_type": "code",
   "execution_count": 44,
   "metadata": {},
   "outputs": [
    {
     "data": {
      "text/plain": [
       "(999, 9)"
      ]
     },
     "execution_count": 44,
     "metadata": {},
     "output_type": "execute_result"
    }
   ],
   "source": [
    "df.shape"
   ]
  },
  {
   "cell_type": "code",
   "execution_count": 45,
   "metadata": {},
   "outputs": [],
   "source": [
    "ews_dic = ewstools.ews_compute(df_traj['Close'], \n",
    "                          roll_window = rw, \n",
    "                          span = span,\n",
    "                          lag_times = lags, \n",
    "                          ews = ews,\n",
    "                          upto=991)"
   ]
  },
  {
   "cell_type": "code",
   "execution_count": 46,
   "metadata": {},
   "outputs": [],
   "source": [
    "#The DataFrame of EWS\n",
    "df_ews = ews_dic['EWS metrics']\n",
    "\n",
    "#The DataFrame of power spectra\n",
    "df_pspec = ews_dic['Power spectrum']\n",
    "\n",
    "#The DataFrame of ktau values\n",
    "df_ktau = ews_dic['Kendall tau']"
   ]
  },
  {
   "cell_type": "code",
   "execution_count": 47,
   "metadata": {},
   "outputs": [
    {
     "data": {
      "text/html": [
       "<div>\n",
       "<style scoped>\n",
       "    .dataframe tbody tr th:only-of-type {\n",
       "        vertical-align: middle;\n",
       "    }\n",
       "\n",
       "    .dataframe tbody tr th {\n",
       "        vertical-align: top;\n",
       "    }\n",
       "\n",
       "    .dataframe thead th {\n",
       "        text-align: right;\n",
       "    }\n",
       "</style>\n",
       "<table border=\"1\" class=\"dataframe\">\n",
       "  <thead>\n",
       "    <tr style=\"text-align: right;\">\n",
       "      <th></th>\n",
       "      <th>Smax</th>\n",
       "      <th>Lag-1 AC</th>\n",
       "      <th>Variance</th>\n",
       "      <th>Smax/Var</th>\n",
       "      <th>Lag-3 AC</th>\n",
       "      <th>Lag-2 AC</th>\n",
       "      <th>Standard deviation</th>\n",
       "      <th>Kurtosis</th>\n",
       "    </tr>\n",
       "  </thead>\n",
       "  <tbody>\n",
       "    <tr>\n",
       "      <th>0</th>\n",
       "      <td>0.92</td>\n",
       "      <td>0.468016</td>\n",
       "      <td>0.94459</td>\n",
       "      <td>-0.233333</td>\n",
       "      <td>0.431026</td>\n",
       "      <td>0.426524</td>\n",
       "      <td>0.94459</td>\n",
       "      <td>-0.227214</td>\n",
       "    </tr>\n",
       "  </tbody>\n",
       "</table>\n",
       "</div>"
      ],
      "text/plain": [
       "   Smax  Lag-1 AC  Variance  Smax/Var  Lag-3 AC  Lag-2 AC  Standard deviation  \\\n",
       "0  0.92  0.468016   0.94459 -0.233333  0.431026  0.426524             0.94459   \n",
       "\n",
       "   Kurtosis  \n",
       "0 -0.227214  "
      ]
     },
     "execution_count": 47,
     "metadata": {},
     "output_type": "execute_result"
    }
   ],
   "source": [
    "df_ktau"
   ]
  },
  {
   "cell_type": "code",
   "execution_count": 48,
   "metadata": {},
   "outputs": [
    {
     "data": {
      "text/plain": [
       "<matplotlib.axes._subplots.AxesSubplot at 0x1c248aff60>"
      ]
     },
     "execution_count": 48,
     "metadata": {},
     "output_type": "execute_result"
    },
    {
     "data": {
      "image/png": "[encoded data removed]",
      "text/plain": [
       "<Figure size 432x720 with 5 Axes>"
      ]
     },
     "metadata": {
      "needs_background": "light"
     },
     "output_type": "display_data"
    }
   ],
   "source": [
    "## Plot of trajectory, smoothing and EWS of var (x or y)\n",
    "fig1, axes = plt.subplots(nrows=5, ncols=1, figsize=(6,10))\n",
    "df_ews[['State variable','Smoothing']].plot(ax=axes[0],\n",
    "          title='Early warning signals')\n",
    "df_ews['Variance'].plot(ax=axes[1],legend=True)\n",
    "df_ews[['Lag-1 AC','Lag-2 AC']].plot(ax=axes[2],legend=True)\n",
    "df_ews['Smax'].plot(ax=axes[3],legend=True, marker='o')\n",
    "df_ews[['AIC null','AIC fold','AIC hopf']].plot(ax=axes[4],legend=True, marker='o')"
   ]
  }
 ],
 "metadata": {
  "kernelspec": {
   "display_name": "Python 3",
   "language": "python",
   "name": "python3"
  },
  "language_info": {
   "codemirror_mode": {
    "name": "ipython",
    "version": 3
   },
   "file_extension": ".py",
   "mimetype": "text/x-python",
   "name": "python",
   "nbconvert_exporter": "python",
   "pygments_lexer": "ipython3",
   "version": "3.7.3"
  }
 },
 "nbformat": 4,
 "nbformat_minor": 2
}
